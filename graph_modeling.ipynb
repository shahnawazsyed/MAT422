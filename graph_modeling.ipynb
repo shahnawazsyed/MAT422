{
  "nbformat": 4,
  "nbformat_minor": 0,
  "metadata": {
    "colab": {
      "provenance": [],
      "authorship_tag": "ABX9TyNOXry+QQwCWjsKt1HmO1sd",
      "include_colab_link": true
    },
    "kernelspec": {
      "name": "python3",
      "display_name": "Python 3"
    },
    "language_info": {
      "name": "python"
    }
  },
  "cells": [
    {
      "cell_type": "markdown",
      "metadata": {
        "id": "view-in-github",
        "colab_type": "text"
      },
      "source": [
        "<a href=\"https://colab.research.google.com/github/shahnawazsyed/MAT422/blob/main/graph_modeling.ipynb\" target=\"_parent\"><img src=\"https://colab.research.google.com/assets/colab-badge.svg\" alt=\"Open In Colab\"/></a>"
      ]
    },
    {
      "cell_type": "markdown",
      "source": [
        "# **4.2 Graph and Graph Modeling**"
      ],
      "metadata": {
        "id": "olVQ1lb7vAFZ"
      }
    },
    {
      "cell_type": "code",
      "source": [
        "import numpy as np\n",
        "from scipy.linalg import eigh"
      ],
      "metadata": {
        "id": "e92Ro0tryJ8t"
      },
      "execution_count": 34,
      "outputs": []
    },
    {
      "cell_type": "markdown",
      "source": [
        "Any graph consists of a set of objects, called nodes, connected by edges. Mathematically, we define this as G(V,E), where V is the set of nodes, and E the set of edges.\n",
        "\n",
        "The degree of a node in a graph is the number of edges connected to the node. In-degree counts the edges towards the node, and out-degree counts those leaving the node."
      ],
      "metadata": {
        "id": "MFlkcu2PvFb6"
      }
    },
    {
      "cell_type": "markdown",
      "source": [
        "A graph with *n* nodes can be represented by a *n* by *n* matrix. A value of 1 at row *i*, column *j* indicates a connection between nodes $v_i$ and $v_j$"
      ],
      "metadata": {
        "id": "47TWKEvNx56Y"
      }
    },
    {
      "cell_type": "code",
      "execution_count": 35,
      "metadata": {
        "colab": {
          "base_uri": "https://localhost:8080/"
        },
        "id": "LYyPXT-3u-LJ",
        "outputId": "46d3713a-2044-4dd9-f857-4e4f783ff29b"
      },
      "outputs": [
        {
          "output_type": "stream",
          "name": "stdout",
          "text": [
            "1\n",
            "0\n"
          ]
        }
      ],
      "source": [
        "graph = np.array([[0,1,0,0,1],\n",
        "                [1,0,1,1,0],\n",
        "                [0,1,0,1,0],\n",
        "                [0,1,1,0,1],\n",
        "                [1,0,0,1,0]]) #a 5 node graph, 0 indexed by node\n",
        "\n",
        "print(graph[0,1]) #node 0 is connected to node 1\n",
        "print(graph[1,4]) #node 1 is not connected to node 4"
      ]
    },
    {
      "cell_type": "markdown",
      "source": [
        "The degree matrix D is a diagonal matrix where each entre D[i,i] is the degree of node $v_i$."
      ],
      "metadata": {
        "id": "Z7PufLi-1BDC"
      }
    },
    {
      "cell_type": "code",
      "source": [
        "D = np.diag(np.sum(graph, axis=0))\n",
        "print(D)"
      ],
      "metadata": {
        "colab": {
          "base_uri": "https://localhost:8080/"
        },
        "id": "ZlwneZ6g1Mha",
        "outputId": "9e6abe78-c204-4720-938e-09e7f171a098"
      },
      "execution_count": 36,
      "outputs": [
        {
          "output_type": "stream",
          "name": "stdout",
          "text": [
            "[[2 0 0 0 0]\n",
            " [0 3 0 0 0]\n",
            " [0 0 2 0 0]\n",
            " [0 0 0 3 0]\n",
            " [0 0 0 0 2]]\n"
          ]
        }
      ]
    },
    {
      "cell_type": "markdown",
      "source": [
        "A Laplacian matrix is constructed by subtracted the adjacency matrix from the degree matrix"
      ],
      "metadata": {
        "id": "HzAB5x-H1Qod"
      }
    },
    {
      "cell_type": "code",
      "source": [
        "L = D - graph\n",
        "print(L)"
      ],
      "metadata": {
        "colab": {
          "base_uri": "https://localhost:8080/"
        },
        "id": "KkVGjIOt1QZk",
        "outputId": "d7e6ae00-092d-48d7-a0d5-e7cab72bbb95"
      },
      "execution_count": 37,
      "outputs": [
        {
          "output_type": "stream",
          "name": "stdout",
          "text": [
            "[[ 2 -1  0  0 -1]\n",
            " [-1  3 -1 -1  0]\n",
            " [ 0 -1  2 -1  0]\n",
            " [ 0 -1 -1  3 -1]\n",
            " [-1  0  0 -1  2]]\n"
          ]
        }
      ]
    },
    {
      "cell_type": "markdown",
      "source": [
        "The second smallest eigenvalue of L indicates the algebraic connectivity of the graph, or how well-connected it is."
      ],
      "metadata": {
        "id": "HFGoDZRP2GtO"
      }
    },
    {
      "cell_type": "code",
      "source": [
        "eigenvalues, eigenvectors = eigh(L)\n",
        "eigenvalues.sort()\n",
        "print(eigenvalues[1]) #algebraic connectivity"
      ],
      "metadata": {
        "colab": {
          "base_uri": "https://localhost:8080/"
        },
        "id": "n51Cg_SX14Gr",
        "outputId": "7566834b-fc60-4aa6-b2ff-6c02e53f8606"
      },
      "execution_count": 38,
      "outputs": [
        {
          "output_type": "stream",
          "name": "stdout",
          "text": [
            "1.3819660112501087\n"
          ]
        }
      ]
    },
    {
      "cell_type": "markdown",
      "source": [
        "The number of connected nodes in the graph is shown by the number of eigenvalues equal to zero."
      ],
      "metadata": {
        "id": "fF0SInUt2nXX"
      }
    },
    {
      "cell_type": "code",
      "source": [
        "num_connected_components = np.sum(eigenvalues < 1e-5)\n",
        "print(num_connected_components)"
      ],
      "metadata": {
        "colab": {
          "base_uri": "https://localhost:8080/"
        },
        "id": "vMH5x8eH2r2Y",
        "outputId": "d041b066-fc62-40bf-81c9-54ff84232362"
      },
      "execution_count": 39,
      "outputs": [
        {
          "output_type": "stream",
          "name": "stdout",
          "text": [
            "1\n"
          ]
        }
      ]
    },
    {
      "cell_type": "markdown",
      "source": [
        "Graph partitioning is a method that divides a graph into subgraphs. This is useful for clustering. The aim is to separate the graph into subgraphs which are as disconnected as possible, while balancing the number of nodes/edges in each part."
      ],
      "metadata": {
        "id": "9xsMDjR023y8"
      }
    },
    {
      "cell_type": "markdown",
      "source": [
        "We start by obtaining the eigenvector corresponding to the second smallest eigenvalue of the Laplacian matrix:"
      ],
      "metadata": {
        "id": "GUBt4lQz3Qat"
      }
    },
    {
      "cell_type": "code",
      "source": [
        "vector = eigenvectors[:,1]\n",
        "print(vector)"
      ],
      "metadata": {
        "colab": {
          "base_uri": "https://localhost:8080/"
        },
        "id": "rnBvnaBb3PrF",
        "outputId": "0f495515-7f88-4068-ff9c-da544d342b50"
      },
      "execution_count": 40,
      "outputs": [
        {
          "output_type": "stream",
          "name": "stdout",
          "text": [
            "[-0.51166727  0.19543951  0.63245553  0.19543951 -0.51166727]\n"
          ]
        }
      ]
    },
    {
      "cell_type": "markdown",
      "source": [
        "We partition the vector into positive and negative sides:"
      ],
      "metadata": {
        "id": "ScT-PtKU4l03"
      }
    },
    {
      "cell_type": "code",
      "source": [
        "partition_1 = [value for i, value in enumerate(vector) if value >= 0]\n",
        "partition_2 = [value for i, value in enumerate(vector) if value < 0]\n",
        "print(\"pos: \", partition_1)\n",
        "print(\"neg: \", partition_2)"
      ],
      "metadata": {
        "colab": {
          "base_uri": "https://localhost:8080/"
        },
        "id": "H1LXDpPT4qO3",
        "outputId": "d8acc51d-f245-4557-b87b-641c3fcae47e"
      },
      "execution_count": 41,
      "outputs": [
        {
          "output_type": "stream",
          "name": "stdout",
          "text": [
            "pos:  [0.19543950758485523, 0.632455532033676, 0.19543950758485573]\n",
            "neg:  [-0.5116672736016928, -0.511667273601692]\n"
          ]
        }
      ]
    }
  ]
}