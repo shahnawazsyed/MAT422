{
  "nbformat": 4,
  "nbformat_minor": 0,
  "metadata": {
    "colab": {
      "provenance": [],
      "authorship_tag": "ABX9TyPYfD6feXlyKH+V4WNH8WRZ",
      "include_colab_link": true
    },
    "kernelspec": {
      "name": "python3",
      "display_name": "Python 3"
    },
    "language_info": {
      "name": "python"
    }
  },
  "cells": [
    {
      "cell_type": "markdown",
      "metadata": {
        "id": "view-in-github",
        "colab_type": "text"
      },
      "source": [
        "<a href=\"https://colab.research.google.com/github/shahnawazsyed/MAT422/blob/main/ANNs.ipynb\" target=\"_parent\"><img src=\"https://colab.research.google.com/assets/colab-badge.svg\" alt=\"Open In Colab\"/></a>"
      ]
    },
    {
      "cell_type": "markdown",
      "source": [
        "# **3.7 Artificial Neural Networks**\n",
        "\n",
        "\n",
        "*   Mathematical formulation\n",
        "*   Activation functions\n",
        "* Cost function\n",
        "* Backpropagation\n",
        "* Backpropagation algorithm\n",
        "\n"
      ],
      "metadata": {
        "id": "kQczpeYmjyPe"
      }
    },
    {
      "cell_type": "code",
      "source": [
        "import numpy as np\n",
        "import matplotlib.pyplot as plt"
      ],
      "metadata": {
        "id": "Dk6JU9lVnv3s"
      },
      "execution_count": 1,
      "outputs": []
    },
    {
      "cell_type": "markdown",
      "source": [
        "# **Mathematical formulation**"
      ],
      "metadata": {
        "id": "ajBeQOAAkGgf"
      }
    },
    {
      "cell_type": "markdown",
      "source": [
        "A general neural network receives input, attempts to learn about that input in order to produce output, adjusting the weighted associations according to the learning rule for improved accuracy along the way. This process is supervised learning."
      ],
      "metadata": {
        "id": "6Un7Z-WFkmqU"
      }
    },
    {
      "cell_type": "markdown",
      "source": [
        "Let $z_{j'}^{l}$ be the output of the network, this output for a given layer $l$ is equal to $Σw^{(l)}_{j,j'}a^{(l-1)}_{j}+b^{(l)}_{j'}$ for all $j$, where $b$ represents the bias."
      ],
      "metadata": {
        "id": "VXeA9gQxl4Jf"
      }
    },
    {
      "cell_type": "markdown",
      "source": [
        "# **Activation Functions**"
      ],
      "metadata": {
        "id": "HVARZOVum2y8"
      }
    },
    {
      "cell_type": "markdown",
      "source": [
        "The activation function of a node abstracts the output of that node for a given input or set of inputs. $σ$ is used to represent the activation functions, which is the same for all nodes in a layer:\n",
        "\n",
        "$a^{(l)} = \\sigma(z^{l}) = \\sigma(W^{(l)}a^{(l-1)}+b^{(l)})$\n",
        "\n",
        "Numerous activation functions are demonstrated below:"
      ],
      "metadata": {
        "id": "mxtrbCNym6QN"
      }
    },
    {
      "cell_type": "code",
      "execution_count": 2,
      "metadata": {
        "colab": {
          "base_uri": "https://localhost:8080/"
        },
        "id": "MtsPP6Q7jweG",
        "outputId": "1f407093-504f-47d1-f9a9-a6ada1055035"
      },
      "outputs": [
        {
          "output_type": "stream",
          "name": "stdout",
          "text": [
            "1\n",
            "1\n",
            "0.7310585786300049\n",
            "1.0\n"
          ]
        }
      ],
      "source": [
        "def stepFunction(z):\n",
        "  if z >= 0:\n",
        "    return 1\n",
        "  else:\n",
        "    return 0\n",
        "\n",
        "def reluFunction(z):\n",
        "  if z >= 0:\n",
        "    return z\n",
        "  else:\n",
        "    return 0\n",
        "\n",
        "def sigmoidFunction(z):\n",
        "  return 1 / (1 + np.exp(-z))\n",
        "\n",
        "def softmaxFunction(z):\n",
        "  return np.exp(z) / np.sum(np.exp(z))\n",
        "\n",
        "print(stepFunction(1))\n",
        "print(reluFunction(1))\n",
        "print(sigmoidFunction(1))\n",
        "print(softmaxFunction(1))"
      ]
    },
    {
      "cell_type": "markdown",
      "source": [
        "# **Cost Function**"
      ],
      "metadata": {
        "id": "3Nww54MSn-rN"
      }
    },
    {
      "cell_type": "markdown",
      "source": [
        "Least squares is commonly used for a cost function. For a set of independent input data $y^n$ (training data) and correponding output data $̂y^n$, the cost function is:\n",
        "\n",
        "$J = \\frac{1}{2}\\sum_{n=1}^{N}\\sum_{K=1}^{K}(̂y^n_k-y^n_k)^2$\n",
        "\n",
        "for *K* nodes."
      ],
      "metadata": {
        "id": "V20prAxyoU0U"
      }
    },
    {
      "cell_type": "code",
      "source": [
        "def costFunction(y_hat, y):\n",
        "  return 0.5 * np.sum((y_hat - y) ** 2)\n",
        "\n",
        "print(costFunction(np.array([1, 2]), np.array([3, 4])))"
      ],
      "metadata": {
        "colab": {
          "base_uri": "https://localhost:8080/"
        },
        "id": "ZNpAEZgCpM56",
        "outputId": "9bb72065-32b2-4dab-85b1-47acdf8dc99f"
      },
      "execution_count": 3,
      "outputs": [
        {
          "output_type": "stream",
          "name": "stdout",
          "text": [
            "4.0\n"
          ]
        }
      ]
    },
    {
      "cell_type": "markdown",
      "source": [
        "# **Backpropagation and Backpropagation Algorithm**"
      ],
      "metadata": {
        "id": "i91Npis5pYdZ"
      }
    },
    {
      "cell_type": "markdown",
      "source": [
        "Backpropagation is the process of adjusting the weights of the neural network based on the loss from the previous iteration. The goal is the minimize the cost function using gradient descent. The backpropagation algorithm is as follows:"
      ],
      "metadata": {
        "id": "ncjBuK7CpbVX"
      }
    },
    {
      "cell_type": "code",
      "source": [
        "x = np.random.randn(10, 1)\n",
        "y = np.random.randn(10, 1)\n",
        "plt.scatter(x, y)\n",
        "plt.show()"
      ],
      "metadata": {
        "colab": {
          "base_uri": "https://localhost:8080/",
          "height": 430
        },
        "id": "Y2doZbErqZuX",
        "outputId": "77d7172c-91e6-41ca-ab37-eab3a4a0aece"
      },
      "execution_count": 4,
      "outputs": [
        {
          "output_type": "display_data",
          "data": {
            "text/plain": [
              "<Figure size 640x480 with 1 Axes>"
            ],
            "image/png": "[encoded data removed]"
          },
          "metadata": {}
        }
      ]
    },
    {
      "cell_type": "markdown",
      "source": [
        "Initialize weights and biases, usually as random:"
      ],
      "metadata": {
        "id": "Gj2XSOzXqGLT"
      }
    },
    {
      "cell_type": "code",
      "source": [
        "weights = np.random.randn(10, 10)\n",
        "biases = np.random.randn(10, 1)"
      ],
      "metadata": {
        "id": "cjyW-HaUqLe9"
      },
      "execution_count": 5,
      "outputs": []
    },
    {
      "cell_type": "markdown",
      "source": [
        "Next, pick input data and input the vector *x* into the network, computing the output $\\hat y$:"
      ],
      "metadata": {
        "id": "N9Bo1FV2qguJ"
      }
    },
    {
      "cell_type": "code",
      "source": [
        "for i in range(10):\n",
        "  y_hat = np.dot(weights, x) + biases"
      ],
      "metadata": {
        "id": "9nQCxy1LqsWD"
      },
      "execution_count": 6,
      "outputs": []
    },
    {
      "cell_type": "markdown",
      "source": [
        "For each iteration, update the parameters according to the loss:"
      ],
      "metadata": {
        "id": "9EBBVh5Dq5nY"
      }
    },
    {
      "cell_type": "code",
      "source": [
        "for i in range(10):\n",
        "  y_hat = np.dot(weights, x) + biases\n",
        "  loss = y_hat - y\n",
        "  weights -= loss * x\n",
        "  biases -= loss\n",
        "\n",
        "print(\"Loss: \", loss)\n",
        "print(\"Weights: \", weights)\n",
        "print(\"Biases: \", biases)"
      ],
      "metadata": {
        "colab": {
          "base_uri": "https://localhost:8080/"
        },
        "id": "-ubLnEiVrdRs",
        "outputId": "0c203b30-b94b-4e11-c078-76468feaca6f"
      },
      "execution_count": 7,
      "outputs": [
        {
          "output_type": "stream",
          "name": "stdout",
          "text": [
            "Loss:  [[ 4.84403895e-02]\n",
            " [-1.20900766e-03]\n",
            " [-4.84521845e+02]\n",
            " [ 0.00000000e+00]\n",
            " [ 1.93867419e+02]\n",
            " [ 2.11657191e+01]\n",
            " [ 3.98427957e-11]\n",
            " [ 4.97019798e-03]\n",
            " [-3.51360991e+01]\n",
            " [-4.78765161e-08]]\n",
            "Weights:  [[-1.07834721e+00 -4.25114166e-02  8.41895970e-01  1.46624288e-01\n",
            "   6.09209018e-01  2.34686144e-01  8.61466854e-01  5.02124860e-01\n",
            "   1.74460466e-01  1.28489750e+00]\n",
            " [-2.69145940e+00 -1.11408818e+00 -3.67398785e+00 -1.08551647e+00\n",
            "  -4.39529000e+00 -2.37170689e+00 -4.01092717e+00 -3.36772728e+00\n",
            "  -2.98570181e+00 -4.51473830e+00]\n",
            " [-2.18702781e+03 -2.18647922e+03 -2.18354376e+03 -2.18622493e+03\n",
            "  -2.18463633e+03 -2.18596925e+03 -2.18345098e+03 -2.18681675e+03\n",
            "  -2.18511362e+03 -2.18418766e+03]\n",
            " [ 4.32243727e-01  7.99067161e-01  5.29960039e-01  9.15625096e-01\n",
            "  -5.30511236e-01  7.46853036e-01 -7.70470993e-01  3.72131406e-01\n",
            "   3.77495183e-01 -5.69849439e-01]\n",
            " [-2.27902289e+02 -2.27393193e+02 -2.27394671e+02 -2.26671533e+02\n",
            "  -2.26827739e+02 -2.28592782e+02 -2.26765783e+02 -2.27587486e+02\n",
            "  -2.28545120e+02 -2.25353043e+02]\n",
            " [ 1.22877312e+02  1.23513691e+02  1.21486027e+02  1.22076155e+02\n",
            "   1.22794426e+02  1.23078333e+02  1.25572641e+02  1.21896074e+02\n",
            "   1.22914405e+02  1.22977066e+02]\n",
            " [ 5.64077284e-01  1.13965528e+00 -3.31917147e-01  7.04926650e-01\n",
            "  -1.17613847e-01  5.17288687e-01  7.40130385e-01  2.57080377e+00\n",
            "  -8.60001429e-01  5.61474326e-01]\n",
            " [ 3.99866694e-02 -1.00436434e+00  1.13123277e-01  4.15631217e-01\n",
            "   2.81879307e-01  1.09613345e+00 -2.49742222e-01  8.49501900e-01\n",
            "   8.94604483e-01 -1.30693114e+00]\n",
            " [ 2.66675395e+01  2.59318231e+01  2.42605244e+01  2.71427358e+01\n",
            "   2.65701122e+01  2.60983399e+01  2.50347604e+01  2.60225558e+01\n",
            "   2.53363434e+01  2.50410882e+01]\n",
            " [ 1.15348168e+00 -2.22480896e-02 -1.04630060e+00 -1.20406812e+00\n",
            "   8.92863475e-03  8.71123538e-01  8.05932572e-01 -5.57303192e-02\n",
            "   5.49283313e-01 -9.18017760e-01]]\n",
            "Biases:  [[ 1.10307923e+00]\n",
            " [ 7.39518768e+00]\n",
            " [ 1.13012307e+03]\n",
            " [ 4.72876296e+00]\n",
            " [-1.22343917e+02]\n",
            " [-8.46472804e+01]\n",
            " [-8.94893123e-02]\n",
            " [ 3.06284270e-01]\n",
            " [ 1.95604760e+01]\n",
            " [-1.25896277e+00]]\n"
          ]
        }
      ]
    }
  ]
}