{
  "nbformat": 4,
  "nbformat_minor": 0,
  "metadata": {
    "colab": {
      "provenance": [],
      "include_colab_link": true
    },
    "kernelspec": {
      "name": "python3",
      "display_name": "Python 3"
    },
    "language_info": {
      "name": "python"
    }
  },
  "cells": [
    {
      "cell_type": "markdown",
      "metadata": {
        "id": "view-in-github",
        "colab_type": "text"
      },
      "source": [
        "<a href=\"https://colab.research.google.com/github/shahnawazsyed/MAT422/blob/main/HW121.ipynb\" target=\"_parent\"><img src=\"https://colab.research.google.com/assets/colab-badge.svg\" alt=\"Open In Colab\"/></a>"
      ]
    },
    {
      "cell_type": "code",
      "execution_count": null,
      "metadata": {
        "colab": {
          "base_uri": "https://localhost:8080/"
        },
        "id": "ZG0Ci3Dq0hmA",
        "outputId": "ace1ac65-3cc4-4541-b379-47a352ab31ba"
      },
      "outputs": [
        {
          "output_type": "stream",
          "name": "stdout",
          "text": [
            "test\n"
          ]
        }
      ],
      "source": []
    },
    {
      "cell_type": "markdown",
      "source": [
        "# 1.2 Linear Algebra\n",
        "*   Linear spaces\n",
        "*   Orthogonality\n",
        "*   Gram–Schmidt process\n",
        "*   Eigenvalues and eigenvectors\n",
        "\n",
        "---\n",
        "\n",
        "\n",
        "\n",
        "# **Linear Spaces**\n",
        "\n",
        "***Linear combinations***\n",
        "\n",
        "A linear combination is a vector formed from a subset where each vector is multiplied by a constant and the results are added together. For example, let V<sub>1</sub> and V<sub>2</sub> be the following vectors:\n",
        "\n",
        "\n",
        "\n",
        "\n",
        "\n",
        "\n"
      ],
      "metadata": {
        "id": "tieYTyme1mWT"
      }
    },
    {
      "cell_type": "code",
      "source": [
        "import numpy as np"
      ],
      "metadata": {
        "id": "4R2OnzVBmfIc"
      },
      "execution_count": 2,
      "outputs": []
    },
    {
      "cell_type": "code",
      "source": [
        "V1 = np.array([1, 2]) #let V1 be a vector\n",
        "V2 = np.array([3, 4]) #let V2 be another vector\n",
        "print(\"V1: \", V1)\n",
        "print(\"V2: \", V2)"
      ],
      "metadata": {
        "colab": {
          "base_uri": "https://localhost:8080/"
        },
        "id": "2ZVB-sBgk3Mo",
        "outputId": "abbf98ca-4cd0-451e-ffbd-0e8d8f2cf080"
      },
      "execution_count": 17,
      "outputs": [
        {
          "output_type": "stream",
          "name": "stdout",
          "text": [
            "V1:  [1 2]\n",
            "V2:  [3 4]\n"
          ]
        }
      ]
    },
    {
      "cell_type": "markdown",
      "source": [
        "Let A be a linear combination of V<sub>1</sub> and V<sub>2</sub>, such that:\n",
        "\n",
        "A = *c*<sub>1</sub>V<sub>1</sub> + *c*<sub>2</sub>V<sub>2</sub>, where *c*<sub>1</sub> and *c*<sub>2</sub> are constants.\n",
        "\n",
        "Say *c*<sub>1</sub> = 2 and *c*<sub>2</sub> = -1. The linear combination becomes:\n",
        "\n",
        "2(V<sub>1</sub>) + -1(V<sub>2</sub>) = [2, 4] + [-3, -4] = [-1, 0]"
      ],
      "metadata": {
        "id": "nCsT-N8GlHXg"
      }
    },
    {
      "cell_type": "code",
      "source": [
        "A = 2*V1 + -1*V2 #A is the linear combination of V1 and V2, such that c1 = 2 and c2 = -1\n",
        "print(\"A: \", A)"
      ],
      "metadata": {
        "id": "DDPi6Xmvn5C-",
        "outputId": "0ee78a26-7afb-4fd2-de4f-a0a53cb800d4",
        "colab": {
          "base_uri": "https://localhost:8080/"
        }
      },
      "execution_count": 18,
      "outputs": [
        {
          "output_type": "stream",
          "name": "stdout",
          "text": [
            "A:  [-1  0]\n"
          ]
        }
      ]
    },
    {
      "cell_type": "markdown",
      "source": [
        "Working backwards, we can prove that a vector A = [-1, 0] is a linear combination of the vectors V<sub>1</sub> = [1, 2] and V<sub>2</sub> = [3, 4]. We need to find scalars *c*<sub>1</sub> and *c*<sub>2</sub> such that:\n",
        "\n",
        "*c*<sub>1</sub>V<sub>1</sub> + *c*<sub>2</sub>V<sub>2</sub> = A"
      ],
      "metadata": {
        "id": "LFrmCoh2oQ4K"
      }
    },
    {
      "cell_type": "code",
      "source": [
        "A = np.array([-1, 0])\n",
        "V1 = np.array([1, 2])\n",
        "V2 = np.array([3, 4])\n",
        "print(\"A: \", A)\n",
        "print(\"V1: \", V1)\n",
        "print(\"V2: \", V2)"
      ],
      "metadata": {
        "id": "9wC3MqOkqN6Y",
        "outputId": "c1103f8f-45b9-4e5f-8d0f-4454e39f025a",
        "colab": {
          "base_uri": "https://localhost:8080/"
        }
      },
      "execution_count": 15,
      "outputs": [
        {
          "output_type": "stream",
          "name": "stdout",
          "text": [
            "A:  [-1  0]\n",
            "V1:  [1 2]\n",
            "V2:  [3 4]\n"
          ]
        }
      ]
    },
    {
      "cell_type": "markdown",
      "source": [
        "*c*<sub>1</sub>[1, 2] + *c*<sub>2</sub>[3, 4] = [-1, 0]\n",
        "\n",
        "This results in a system of equations where:\n",
        "\n",
        "*c*<sub>1</sub> + 3*c*<sub>2</sub> = -1\n",
        "\n",
        "2*c*<sub>1</sub> + 4*c*<sub>2</sub> = 0\n",
        "\n",
        "We can solve this system of equations by converting it to matricies *a* and *b*, and solving for the solution *x*\n",
        "\n"
      ],
      "metadata": {
        "id": "a4qcM36frNPO"
      }
    },
    {
      "cell_type": "code",
      "source": [
        "a = np.array([[1, 3],[2, 4]])\n",
        "b = np.array([-1, 0])\n",
        "print(\"a: \", a)\n",
        "print(\"b: \", b)\n",
        "x = np.linalg.solve(a, b) #solve ax=b for x\n",
        "print(\"x: \", x)"
      ],
      "metadata": {
        "id": "DobGSRZnAM2Y",
        "outputId": "ce340c4c-178c-40e7-b26f-9e142eafe9d1",
        "colab": {
          "base_uri": "https://localhost:8080/"
        }
      },
      "execution_count": 19,
      "outputs": [
        {
          "output_type": "stream",
          "name": "stdout",
          "text": [
            "a:  [[1 3]\n",
            " [2 4]]\n",
            "b:  [-1  0]\n",
            "x:  [ 2. -1.]\n"
          ]
        }
      ]
    },
    {
      "cell_type": "markdown",
      "source": [
        "This shows that the vector A is a linear combination of the vectors V<sub>1</sub> and V<sub>2</sub>, where *c*<sub>1</sub> = 2 and *c*<sub>2</sub> = -1. This aligns with our previous work in solving for the matrix A given *c*<sub>1</sub> = 2 and *c*<sub>2</sub> = -1."
      ],
      "metadata": {
        "id": "0Eig_XZLDiHt"
      }
    },
    {
      "cell_type": "markdown",
      "source": [],
      "metadata": {
        "id": "5k6rp5cGFru4"
      }
    }
  ]
}