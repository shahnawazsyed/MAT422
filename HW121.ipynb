{
  "nbformat": 4,
  "nbformat_minor": 0,
  "metadata": {
    "colab": {
      "provenance": [],
      "include_colab_link": true
    },
    "kernelspec": {
      "name": "python3",
      "display_name": "Python 3"
    },
    "language_info": {
      "name": "python"
    }
  },
  "cells": [
    {
      "cell_type": "markdown",
      "metadata": {
        "id": "view-in-github",
        "colab_type": "text"
      },
      "source": [
        "<a href=\"https://colab.research.google.com/github/shahnawazsyed/MAT422/blob/main/HW121.ipynb\" target=\"_parent\"><img src=\"https://colab.research.google.com/assets/colab-badge.svg\" alt=\"Open In Colab\"/></a>"
      ]
    },
    {
      "cell_type": "markdown",
      "source": [
        "# 1.2 Linear Algebra\n",
        "*   Linear spaces\n",
        "*   Orthogonality\n",
        "*   Gram–Schmidt process\n",
        "*   Eigenvalues and eigenvectors\n",
        "\n",
        "---\n"
      ],
      "metadata": {
        "id": "OCp9mlCVUEmS"
      }
    },
    {
      "cell_type": "code",
      "source": [
        "import numpy as np"
      ],
      "metadata": {
        "id": "4R2OnzVBmfIc"
      },
      "execution_count": 7,
      "outputs": []
    },
    {
      "cell_type": "markdown",
      "source": [
        "# **1.2.1. Linear Spaces**"
      ],
      "metadata": {
        "id": "tieYTyme1mWT"
      }
    },
    {
      "cell_type": "markdown",
      "source": [
        "\n",
        "**Linear subspace**: A subset U ∈ V closed under:\n",
        "<center>Vector addition: u<sub>1</sub> + u<sub>2</sub> ∈ U</center>\n",
        "\n",
        "<center>Vector multiplication: a(u<sub>1</sub>) ∈ U</center>\n",
        "\n",
        "**Linear combinations**:\n",
        "\n",
        "A linear combination is a vector formed from a subset where each vector is multiplied by a constant and the results are added together. For example, let V<sub>1</sub> and V<sub>2</sub> be the following vectors:\n"
      ],
      "metadata": {
        "id": "C2pw8YZy4-wv"
      }
    },
    {
      "cell_type": "code",
      "source": [
        "V1 = np.array([1, 2]) #let V1 be a vector\n",
        "V2 = np.array([3, 4]) #let V2 be another vector\n",
        "print(\"V1: \", V1)\n",
        "print(\"V2: \", V2)"
      ],
      "metadata": {
        "colab": {
          "base_uri": "https://localhost:8080/"
        },
        "id": "2ZVB-sBgk3Mo",
        "outputId": "abbf98ca-4cd0-451e-ffbd-0e8d8f2cf080"
      },
      "execution_count": 17,
      "outputs": [
        {
          "output_type": "stream",
          "name": "stdout",
          "text": [
            "V1:  [1 2]\n",
            "V2:  [3 4]\n"
          ]
        }
      ]
    },
    {
      "cell_type": "markdown",
      "source": [
        "Let A be a linear combination of V<sub>1</sub> and V<sub>2</sub>, such that:\n",
        "\n",
        "A = *c*<sub>1</sub>V<sub>1</sub> + *c*<sub>2</sub>V<sub>2</sub>, where *c*<sub>1</sub> and *c*<sub>2</sub> are constants.\n",
        "\n",
        "Say *c*<sub>1</sub> = 2 and *c*<sub>2</sub> = -1. The linear combination becomes:\n",
        "\n",
        "2(V<sub>1</sub>) + -1(V<sub>2</sub>) = [2, 4] + [-3, -4] = [-1, 0]"
      ],
      "metadata": {
        "id": "nCsT-N8GlHXg"
      }
    },
    {
      "cell_type": "code",
      "source": [
        "A = 2*V1 + -1*V2 #A is the linear combination of V1 and V2, such that c1 = 2 and c2 = -1\n",
        "print(\"A: \", A)"
      ],
      "metadata": {
        "id": "DDPi6Xmvn5C-",
        "outputId": "0ee78a26-7afb-4fd2-de4f-a0a53cb800d4",
        "colab": {
          "base_uri": "https://localhost:8080/"
        }
      },
      "execution_count": 18,
      "outputs": [
        {
          "output_type": "stream",
          "name": "stdout",
          "text": [
            "A:  [-1  0]\n"
          ]
        }
      ]
    },
    {
      "cell_type": "markdown",
      "source": [
        "Working backwards, we can prove that a vector A = [-1, 0] is a linear combination of the vectors V<sub>1</sub> = [1, 2] and V<sub>2</sub> = [3, 4]. We need to find scalars *c*<sub>1</sub> and *c*<sub>2</sub> such that:\n",
        "\n",
        "*c*<sub>1</sub>V<sub>1</sub> + *c*<sub>2</sub>V<sub>2</sub> = A"
      ],
      "metadata": {
        "id": "LFrmCoh2oQ4K"
      }
    },
    {
      "cell_type": "code",
      "source": [
        "A = np.array([-1, 0])\n",
        "V1 = np.array([1, 2])\n",
        "V2 = np.array([3, 4])\n",
        "print(\"A: \", A)\n",
        "print(\"V1: \", V1)\n",
        "print(\"V2: \", V2)"
      ],
      "metadata": {
        "id": "9wC3MqOkqN6Y",
        "outputId": "c1103f8f-45b9-4e5f-8d0f-4454e39f025a",
        "colab": {
          "base_uri": "https://localhost:8080/"
        }
      },
      "execution_count": 15,
      "outputs": [
        {
          "output_type": "stream",
          "name": "stdout",
          "text": [
            "A:  [-1  0]\n",
            "V1:  [1 2]\n",
            "V2:  [3 4]\n"
          ]
        }
      ]
    },
    {
      "cell_type": "markdown",
      "source": [
        "*c*<sub>1</sub>[1, 2] + *c*<sub>2</sub>[3, 4] = [-1, 0]\n",
        "\n",
        "This results in a system of equations where:\n",
        "\n",
        "*c*<sub>1</sub> + 3*c*<sub>2</sub> = -1\n",
        "\n",
        "2*c*<sub>1</sub> + 4*c*<sub>2</sub> = 0\n",
        "\n",
        "We can solve this system of equations by converting it to matricies *a* and *b*, and solving for the solution *x*\n",
        "\n"
      ],
      "metadata": {
        "id": "a4qcM36frNPO"
      }
    },
    {
      "cell_type": "code",
      "source": [
        "a = np.array([[1, 3],[2, 4]])\n",
        "b = np.array([-1, 0])\n",
        "print(\"a: \", a)\n",
        "print(\"b: \", b)\n",
        "x = np.linalg.solve(a, b) #solve ax=b for x\n",
        "print(\"x: \", x)"
      ],
      "metadata": {
        "colab": {
          "base_uri": "https://localhost:8080/"
        },
        "id": "DobGSRZnAM2Y",
        "outputId": "ce340c4c-178c-40e7-b26f-9e142eafe9d1"
      },
      "execution_count": 19,
      "outputs": [
        {
          "output_type": "stream",
          "name": "stdout",
          "text": [
            "a:  [[1 3]\n",
            " [2 4]]\n",
            "b:  [-1  0]\n",
            "x:  [ 2. -1.]\n"
          ]
        }
      ]
    },
    {
      "cell_type": "markdown",
      "source": [
        "This shows that the vector A is a linear combination of the vectors V<sub>1</sub> and V<sub>2</sub>, where *c*<sub>1</sub> = 2 and *c*<sub>2</sub> = -1. This aligns with our previous work in solving for the matrix A given *c*<sub>1</sub> = 2 and *c*<sub>2</sub> = -1."
      ],
      "metadata": {
        "id": "0Eig_XZLDiHt"
      }
    },
    {
      "cell_type": "markdown",
      "source": [
        "**Linear Independence**:\n",
        "\n",
        "A set of vectors V is linearly independent if the equation:\n",
        "\n",
        "c<sub>1</sub>V<sub>1</sub> + c<sub>2</sub>V<sub>2</sub> +...+ c<sub>k</sub>V<sub>k</sub> = 0\n",
        "\n",
        "is only satisfied when c<sub>1</sub>, c<sub>2</sub>,...,c<sub>k</sub> = 0\n",
        "\n",
        "We can also use the determinant of a matrix to determine if a set of vectors is linearly independent. If the determinant of the matrix is not 0, then the vectors are linearly independent. Vectors that are not linearly independent are called linearly dependent.\n",
        "\n",
        "Let V<sub>1</sub>, V<sub>2</sub>, and V<sub>3</sub> be the following:\n",
        "\n",
        "V1 = [2, 2, 1], V2 = [-4, 6, 5], V3 = [1, 0, 0]"
      ],
      "metadata": {
        "id": "5k6rp5cGFru4"
      }
    },
    {
      "cell_type": "code",
      "source": [
        "def isLinIndependent(V1, V2, V3):\n",
        "  M = np.array([V1, V2, V3])\n",
        "  return np.linalg.det(M) != 0\n",
        "V1 = np.array([2,2,1])\n",
        "V2 = np.array([-4,6,5])\n",
        "V3 = np.array([-1,0,0])\n",
        "if isLinIndependent(V1, V2, V3):\n",
        "  print(\"The vectors are linearly independent\")\n",
        "else:\n",
        "  print(\"The vectors are linearly dependent\")"
      ],
      "metadata": {
        "colab": {
          "base_uri": "https://localhost:8080/"
        },
        "id": "KXBXeFTGx2AE",
        "outputId": "b1203418-97da-462b-b38f-22f8198a7500"
      },
      "execution_count": 9,
      "outputs": [
        {
          "output_type": "stream",
          "name": "stdout",
          "text": [
            "The vectors are linearly independent\n"
          ]
        }
      ]
    },
    {
      "cell_type": "markdown",
      "source": [
        "**Span**:\n",
        "\n",
        "The span of a set of vectors *S* = {V<sub>1</sub>, V<sub>2</sub>,...V<sub>k</sub>} is said to be the set of all linear combinations in *S*. We can define the span of S as:\n",
        "<center>span(S) = {c<sub>1</sub>V<sub>1</sub>, c<sub>2</sub>V<sub>2</sub>,...c<sub>k</sub>V<sub>k</sub>} where c<sub>1</sub>, c<sub>2</sub>, and c<sub>k</sub> are real numbers</center>\n",
        "\n",
        "**Basis**: Given U, a linear subspace of V, its basis is the set of vectors that both span U and are linearly independent.\n",
        "\n",
        "**Dimension**: Given U, a linear subspace of V, all bases of U will have the same length of elements, which we denote as the dimension of U.\n",
        "\n",
        "**Column Space**: Given a matrix A, its column space, col(A), is the span of its columns."
      ],
      "metadata": {
        "id": "H3UL-aC7vbYB"
      }
    },
    {
      "cell_type": "markdown",
      "source": [
        "# **1.2.2. Orthogonality**\n"
      ],
      "metadata": {
        "id": "hs6qR8Q8GUGt"
      }
    },
    {
      "cell_type": "markdown",
      "source": [
        "\n",
        "**Inner product**: <u, v> = u · v (dot product of u and v)\n",
        "\n",
        "**Norm**: ||v|| (magnitude of v)\n",
        "\n",
        "A list of vectors {u<sub>1</sub>,...,u<sub>k</sub>} is orthonormal if, for all *i* and all *j* ≠ *i*, <u<sub>i</sub>, u<sub>j</sub>> = 0 and ||u<sub>i</sub>|| = 1."
      ],
      "metadata": {
        "id": "7pADnz-q5H64"
      }
    },
    {
      "cell_type": "code",
      "source": [
        "def isOrthonormal(vectors):\n",
        "  for vector in vectors:\n",
        "    if not np.isclose(np.linalg.norm(vector), 1):\n",
        "      return False\n",
        "\n",
        "    for i in range(len(vectors)):\n",
        "      for j in range(i+1, len(vectors)):\n",
        "        if not np.isclose(np.dot(vectors[i], vectors[j]), 0):\n",
        "          return False\n",
        "\n",
        "    return True\n",
        "\n",
        "vectors = [\n",
        "    np.array([1/np.sqrt(2), 1/np.sqrt(2)]),\n",
        "    np.array([-1/np.sqrt(2), 1/np.sqrt(2)])\n",
        "]\n",
        "\n",
        "if isOrthonormal(vectors):\n",
        "  print(\"Vectors are orthonormal\")\n",
        "else:\n",
        "  print(\"Vectors are NOT orthonormal\")"
      ],
      "metadata": {
        "colab": {
          "base_uri": "https://localhost:8080/"
        },
        "id": "lCOfPEHC_xl9",
        "outputId": "bd66dd06-fc5e-4ba0-89ef-8df1c0440d0c"
      },
      "execution_count": 3,
      "outputs": [
        {
          "output_type": "stream",
          "name": "stdout",
          "text": [
            "Vectors are orthonormal\n"
          ]
        }
      ]
    },
    {
      "cell_type": "markdown",
      "source": [
        "**Best approximation theorem**: Given a linear subspace U ∈ V and a vector *v* ∉ U, we wish to find a vector *v** ∈ U that is the closest to *v*\n",
        "\n",
        "In a two-dimensional case, where the subspace *U* = span(u<sub>1</sub>) and ||u<sub>1</sub>|| = 1, *v* - *v** makes a right angle with u<sub>1</sub>, such that they are orthogonal.\n",
        "\n",
        "**Orthogonal projection**: Where *U* is a subspace of R<sup>n</sup> and *v* is a vector in R<sup>n</sup>, the closest vector to *v* on *U* is the orthogonal projection."
      ],
      "metadata": {
        "id": "cuR0wEPWMlm2"
      }
    },
    {
      "cell_type": "code",
      "source": [
        "def orthogonalProj(u, v):\n",
        "  dotProduct = np.dot(u,v)\n",
        "  norm = np.linalg.norm(v)\n",
        "  return (dotProduct/(norm**2))*v\n",
        "u = np.array([2, 4])\n",
        "v = np.array([5, 1])\n",
        "print(f\"The orthogonal projection of {u} onto {v} is\", orthogonalProj(u, v))"
      ],
      "metadata": {
        "colab": {
          "base_uri": "https://localhost:8080/"
        },
        "id": "3_2sgPzxRk-O",
        "outputId": "d981bb24-4979-41c5-fff0-77d788d78ca8"
      },
      "execution_count": 52,
      "outputs": [
        {
          "output_type": "stream",
          "name": "stdout",
          "text": [
            "The orthogonal projection of [2 4] onto [5 1] is [2.69230769 0.53846154]\n"
          ]
        }
      ]
    },
    {
      "cell_type": "markdown",
      "source": [
        "# **1.2.3. Gram - Schmidt Process**"
      ],
      "metadata": {
        "id": "X5fGlqo6UHTc"
      }
    },
    {
      "cell_type": "markdown",
      "source": [
        "The Gram-Schmidt process is used to obtain an orthonormal basis. Given a set V of linearly independent vectors, there exists an orthonormal basis of span(v<sub>1</sub>...v<sub>2</sub>)."
      ],
      "metadata": {
        "id": "ZYFibASo5Wsh"
      }
    },
    {
      "cell_type": "code",
      "source": [
        "def GramSchmidt(vectors):\n",
        "  result = []\n",
        "  for vector in vectors:\n",
        "    u = np.array(vector, dtype=np.float64)\n",
        "    for prev in result: #subtract projection of u onto previous orthogonal vector\n",
        "      proj = np.dot(vector, prev)/np.dot(prev,prev)*prev\n",
        "      u -= proj\n",
        "    result.append(u)\n",
        "  return result\n",
        "\n",
        "def normalize(vectors): #normalize the vectors\n",
        "  result = []\n",
        "  for vector in vectors:\n",
        "    result.append(vector / np.linalg.norm(vector))\n",
        "  return result\n",
        "\n",
        "vectors = np.array([[3, 1],\n",
        "                   [2, 2]], dtype=np.float64)\n",
        "\n",
        "orthonormalVectors = normalize(GramSchmidt(vectors))\n",
        "\n",
        "print(\"Orthonormal vectors: \")\n",
        "for vector in orthonormalVectors:\n",
        "  print(vector)\n"
      ],
      "metadata": {
        "colab": {
          "base_uri": "https://localhost:8080/"
        },
        "id": "lumNUCu1XlsR",
        "outputId": "80e54e02-c789-451e-f564-38389258ebff"
      },
      "execution_count": 33,
      "outputs": [
        {
          "output_type": "stream",
          "name": "stdout",
          "text": [
            "Orthonormal vectors: \n",
            "[0.9486833  0.31622777]\n",
            "[-0.31622777  0.9486833 ]\n"
          ]
        }
      ]
    },
    {
      "cell_type": "markdown",
      "source": [
        "We can verify the validity of our process by checking the orthogonality and normalization of the vectors:"
      ],
      "metadata": {
        "id": "gPdPkJ0PacBa"
      }
    },
    {
      "cell_type": "code",
      "source": [
        "def checkOrthogonality(vectors):\n",
        "  for i in range(len(vectors)):\n",
        "    for j in range(len(vectors)):\n",
        "      if i != j and not np.isclose(np.dot(vectors[i],vectors[j]), 0, atol=1e-10):\n",
        "        return False\n",
        "  return True\n",
        "\n",
        "def checkNormalization(vectors):\n",
        "  for vector in vectors:\n",
        "    if not np.isclose(np.linalg.norm(vector),1,atol=1e-10):\n",
        "      return False\n",
        "  return True\n",
        "\n",
        "if checkNormalization(orthonormalVectors) and checkOrthogonality(orthonormalVectors):\n",
        "  print(\"Result validated\")\n",
        "else:\n",
        "  print(\"ERROR\")"
      ],
      "metadata": {
        "colab": {
          "base_uri": "https://localhost:8080/"
        },
        "id": "wVKAXyDTamNh",
        "outputId": "581591ae-1b39-4d37-f95d-b3a9827ed870"
      },
      "execution_count": 45,
      "outputs": [
        {
          "output_type": "stream",
          "name": "stdout",
          "text": [
            "Result validated\n"
          ]
        }
      ]
    },
    {
      "cell_type": "markdown",
      "source": [
        "# **1.2.4. Eigenvalues and Eigenvectors**"
      ],
      "metadata": {
        "id": "K8sQium71-OX"
      }
    },
    {
      "cell_type": "markdown",
      "source": [
        "Let *A* be a square matrix such that A ∈ R<sup>*n*x*n*</sup>. There exists a value λ ∈ R we call the eigenvalue of A, if there is a nonzero vector x ≠ 0 such that *A*x  = λx. x is referred to as an eigenvector."
      ],
      "metadata": {
        "id": "xLV5ye4V5Y3h"
      }
    },
    {
      "cell_type": "code",
      "source": [
        "A = np.array([[1, 2],\n",
        "             [3, -4]])\n",
        "eig, eigvec = np.linalg.eig(A)\n",
        "print(\"Eigenvalue(s): \", eig)\n",
        "print(\"Eigenvector(s): \", eigvec)\n",
        "#a matrix can have multiple eigenvalues/eigenvectors"
      ],
      "metadata": {
        "colab": {
          "base_uri": "https://localhost:8080/"
        },
        "id": "7tCGkThs2rCm",
        "outputId": "212f1764-5847-4efb-9f59-2f969195b10e"
      },
      "execution_count": 5,
      "outputs": [
        {
          "output_type": "stream",
          "name": "stdout",
          "text": [
            "Eigenvalue(s):  [ 2. -5.]\n",
            "Eigenvector(s):  [[ 0.89442719 -0.31622777]\n",
            " [ 0.4472136   0.9486833 ]]\n"
          ]
        }
      ]
    },
    {
      "cell_type": "code",
      "source": [
        "#a matrix can also have no *real* eigenvalues/eigenvectors\n",
        "A = np.array([[0, -1],\n",
        "             [1, 0]])\n",
        "eig, eigvec = np.linalg.eig(A)\n",
        "print(\"Eigenvalue(s): \", eig)\n",
        "print(\"Eigenvector(s): \", eigvec)"
      ],
      "metadata": {
        "colab": {
          "base_uri": "https://localhost:8080/"
        },
        "id": "kwKuLTgm4cjr",
        "outputId": "d088e48b-911b-45af-e855-71e5daa4e11e"
      },
      "execution_count": 6,
      "outputs": [
        {
          "output_type": "stream",
          "name": "stdout",
          "text": [
            "Eigenvalue(s):  [0.+1.j 0.-1.j]\n",
            "Eigenvector(s):  [[0.70710678+0.j         0.70710678-0.j        ]\n",
            " [0.        -0.70710678j 0.        +0.70710678j]]\n"
          ]
        }
      ]
    },
    {
      "cell_type": "markdown",
      "source": [
        "**Diagnalization**: A matrix *A* is orthogonally diagonalizable if there is an orthogonal matrix *P* and diagonal matrix *D* such that: *A* = *PDP<sup>T</sup>*"
      ],
      "metadata": {
        "id": "Lttgvd7DeYRy"
      }
    },
    {
      "cell_type": "code",
      "source": [
        "def diagnalization(p, d):\n",
        "  return p @ d @ np.transpose(p)\n",
        "p = np.array([[0, -1],\n",
        "              [1, 0]])\n",
        "d = np.array([[5, 0],\n",
        "             [0, 5]])\n",
        "A = diagnalization(p, d)\n",
        "print(A)"
      ],
      "metadata": {
        "colab": {
          "base_uri": "https://localhost:8080/"
        },
        "id": "rUfxG6iDfEKh",
        "outputId": "e049178a-6e00-4459-ad6e-f2068634be3b"
      },
      "execution_count": 50,
      "outputs": [
        {
          "output_type": "stream",
          "name": "stdout",
          "text": [
            "[[5 0]\n",
            " [0 5]]\n"
          ]
        }
      ]
    },
    {
      "cell_type": "markdown",
      "source": [
        "If *A* is orthogonally diagonalizable, then A<sup>T</sup> = (PDP<sup>T</sup>)<sup>T</sup>"
      ],
      "metadata": {
        "id": "fGhe-9GhgL4C"
      }
    },
    {
      "cell_type": "code",
      "source": [
        "print(np.isclose(np.transpose(A), np.transpose(p @ d @ np.transpose(p)), atol= 1e-10))"
      ],
      "metadata": {
        "colab": {
          "base_uri": "https://localhost:8080/"
        },
        "id": "X6coKSnCgiT8",
        "outputId": "dea94100-7fa5-4b78-a43c-c051edc30f38"
      },
      "execution_count": 59,
      "outputs": [
        {
          "output_type": "stream",
          "name": "stdout",
          "text": [
            "[[ True  True]\n",
            " [ True  True]]\n"
          ]
        }
      ]
    },
    {
      "cell_type": "markdown",
      "source": [
        "This also means *A* is symmetric, and should follow The Spectral Theorem for Symmetric Matricies:"
      ],
      "metadata": {
        "id": "DvrHrkCzhAdD"
      }
    },
    {
      "cell_type": "code",
      "source": [
        "eig, eigvec = np.linalg.eig(A)\n",
        "print(\"Eigenvalues: \", eig) #A is an nxn symmetric matrix, and should have n real eigenvalues\n",
        "print(\"Mutually orthogonal: \", checkOrthogonality(eigvec)) #eigenspaces are mutually orthogonal, such that the eigenvectors for A should be orthogonal"
      ],
      "metadata": {
        "colab": {
          "base_uri": "https://localhost:8080/"
        },
        "id": "juA7FmmkhFnm",
        "outputId": "71b6c3cc-c219-46dd-9b03-6623be44b895"
      },
      "execution_count": 65,
      "outputs": [
        {
          "output_type": "stream",
          "name": "stdout",
          "text": [
            "Eigenvalues:  [5. 5.]\n",
            "Mutually orthogonal:  True\n"
          ]
        }
      ]
    }
  ]
}