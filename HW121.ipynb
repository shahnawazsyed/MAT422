{
  "nbformat": 4,
  "nbformat_minor": 0,
  "metadata": {
    "colab": {
      "provenance": [],
      "include_colab_link": true
    },
    "kernelspec": {
      "name": "python3",
      "display_name": "Python 3"
    },
    "language_info": {
      "name": "python"
    }
  },
  "cells": [
    {
      "cell_type": "markdown",
      "metadata": {
        "id": "view-in-github",
        "colab_type": "text"
      },
      "source": [
        "<a href=\"https://colab.research.google.com/github/shahnawazsyed/MAT422/blob/main/HW121.ipynb\" target=\"_parent\"><img src=\"https://colab.research.google.com/assets/colab-badge.svg\" alt=\"Open In Colab\"/></a>"
      ]
    },
    {
      "cell_type": "code",
      "execution_count": null,
      "metadata": {
        "colab": {
          "base_uri": "https://localhost:8080/"
        },
        "id": "ZG0Ci3Dq0hmA",
        "outputId": "ace1ac65-3cc4-4541-b379-47a352ab31ba"
      },
      "outputs": [
        {
          "output_type": "stream",
          "name": "stdout",
          "text": [
            "test\n"
          ]
        }
      ],
      "source": []
    },
    {
      "cell_type": "markdown",
      "source": [
        "# 1.2 Linear Algebra\n",
        "*   Linear spaces\n",
        "*   Orthogonality\n",
        "*   Gram–Schmidt process\n",
        "*   Eigenvalues and eigenvectors\n",
        "\n",
        "---\n",
        "\n",
        "\n",
        "\n",
        "**Linear Spaces**\n",
        "\n",
        "*Linear combinations*\n",
        "\n",
        "A linear combination is a vector formed from a subset where each vector is multiplied by a constant and the results are added together. For example, let V<sub>1</sub> and V<sub>2</sub> be the following vectors:\n",
        "\n",
        "\n",
        "\n",
        "\n",
        "\n",
        "\n"
      ],
      "metadata": {
        "id": "tieYTyme1mWT"
      }
    },
    {
      "cell_type": "code",
      "source": [
        "v1 = [1, 2]\n",
        "V1 = np.matrix(v1) #let V1 be a vector\n",
        "v2 = [3, 4]\n",
        "V2 = np.matrix(v2) #let V2 be another vector"
      ],
      "metadata": {
        "id": "2ZVB-sBgk3Mo"
      },
      "execution_count": null,
      "outputs": []
    },
    {
      "cell_type": "markdown",
      "source": [
        "Let A be a linear combination of V<sub>1</sub> and V<sub>2</sub>, such that:\n",
        "\n",
        "A = *c<sub>1*</sub>V<sub>1</sub> + *c<sub>2*</sub>V<sub>2</sub>, where *c<sub>1*</sub> and *c<sub>2*</sub> are constants.\n",
        "\n"
      ],
      "metadata": {
        "id": "nCsT-N8GlHXg"
      }
    }
  ]
}