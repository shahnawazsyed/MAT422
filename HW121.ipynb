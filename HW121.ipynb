{
  "nbformat": 4,
  "nbformat_minor": 0,
  "metadata": {
    "colab": {
      "provenance": [],
      "include_colab_link": true
    },
    "kernelspec": {
      "name": "python3",
      "display_name": "Python 3"
    },
    "language_info": {
      "name": "python"
    }
  },
  "cells": [
    {
      "cell_type": "markdown",
      "metadata": {
        "id": "view-in-github",
        "colab_type": "text"
      },
      "source": [
        "<a href=\"https://colab.research.google.com/github/shahnawazsyed/MAT422/blob/main/HW121.ipynb\" target=\"_parent\"><img src=\"https://colab.research.google.com/assets/colab-badge.svg\" alt=\"Open In Colab\"/></a>"
      ]
    },
    {
      "cell_type": "markdown",
      "source": [
        "# 1.2 Linear Algebra\n",
        "*   Linear spaces\n",
        "*   Orthogonality\n",
        "*   Gram–Schmidt process\n",
        "*   Eigenvalues and eigenvectors\n",
        "\n",
        "---\n",
        "\n",
        "\n",
        "\n",
        "# **Linear Spaces**\n",
        "\n",
        "***Linear combinations***\n",
        "\n",
        "A linear combination is a vector formed from a subset where each vector is multiplied by a constant and the results are added together. For example, let V<sub>1</sub> and V<sub>2</sub> be the following vectors:\n",
        "\n",
        "\n",
        "\n",
        "\n",
        "\n",
        "\n"
      ],
      "metadata": {
        "id": "tieYTyme1mWT"
      }
    },
    {
      "cell_type": "code",
      "source": [
        "import numpy as np\n",
        "#add definitions for subspaces, column space\n",
        "#double check code"
      ],
      "metadata": {
        "id": "4R2OnzVBmfIc"
      },
      "execution_count": 3,
      "outputs": []
    },
    {
      "cell_type": "code",
      "source": [
        "V1 = np.array([1, 2]) #let V1 be a vector\n",
        "V2 = np.array([3, 4]) #let V2 be another vector\n",
        "print(\"V1: \", V1)\n",
        "print(\"V2: \", V2)"
      ],
      "metadata": {
        "colab": {
          "base_uri": "https://localhost:8080/"
        },
        "id": "2ZVB-sBgk3Mo",
        "outputId": "abbf98ca-4cd0-451e-ffbd-0e8d8f2cf080"
      },
      "execution_count": 17,
      "outputs": [
        {
          "output_type": "stream",
          "name": "stdout",
          "text": [
            "V1:  [1 2]\n",
            "V2:  [3 4]\n"
          ]
        }
      ]
    },
    {
      "cell_type": "markdown",
      "source": [
        "Let A be a linear combination of V<sub>1</sub> and V<sub>2</sub>, such that:\n",
        "\n",
        "A = *c*<sub>1</sub>V<sub>1</sub> + *c*<sub>2</sub>V<sub>2</sub>, where *c*<sub>1</sub> and *c*<sub>2</sub> are constants.\n",
        "\n",
        "Say *c*<sub>1</sub> = 2 and *c*<sub>2</sub> = -1. The linear combination becomes:\n",
        "\n",
        "2(V<sub>1</sub>) + -1(V<sub>2</sub>) = [2, 4] + [-3, -4] = [-1, 0]"
      ],
      "metadata": {
        "id": "nCsT-N8GlHXg"
      }
    },
    {
      "cell_type": "code",
      "source": [
        "A = 2*V1 + -1*V2 #A is the linear combination of V1 and V2, such that c1 = 2 and c2 = -1\n",
        "print(\"A: \", A)"
      ],
      "metadata": {
        "id": "DDPi6Xmvn5C-",
        "outputId": "0ee78a26-7afb-4fd2-de4f-a0a53cb800d4",
        "colab": {
          "base_uri": "https://localhost:8080/"
        }
      },
      "execution_count": 18,
      "outputs": [
        {
          "output_type": "stream",
          "name": "stdout",
          "text": [
            "A:  [-1  0]\n"
          ]
        }
      ]
    },
    {
      "cell_type": "markdown",
      "source": [
        "Working backwards, we can prove that a vector A = [-1, 0] is a linear combination of the vectors V<sub>1</sub> = [1, 2] and V<sub>2</sub> = [3, 4]. We need to find scalars *c*<sub>1</sub> and *c*<sub>2</sub> such that:\n",
        "\n",
        "*c*<sub>1</sub>V<sub>1</sub> + *c*<sub>2</sub>V<sub>2</sub> = A"
      ],
      "metadata": {
        "id": "LFrmCoh2oQ4K"
      }
    },
    {
      "cell_type": "code",
      "source": [
        "A = np.array([-1, 0])\n",
        "V1 = np.array([1, 2])\n",
        "V2 = np.array([3, 4])\n",
        "print(\"A: \", A)\n",
        "print(\"V1: \", V1)\n",
        "print(\"V2: \", V2)"
      ],
      "metadata": {
        "id": "9wC3MqOkqN6Y",
        "outputId": "c1103f8f-45b9-4e5f-8d0f-4454e39f025a",
        "colab": {
          "base_uri": "https://localhost:8080/"
        }
      },
      "execution_count": 15,
      "outputs": [
        {
          "output_type": "stream",
          "name": "stdout",
          "text": [
            "A:  [-1  0]\n",
            "V1:  [1 2]\n",
            "V2:  [3 4]\n"
          ]
        }
      ]
    },
    {
      "cell_type": "markdown",
      "source": [
        "*c*<sub>1</sub>[1, 2] + *c*<sub>2</sub>[3, 4] = [-1, 0]\n",
        "\n",
        "This results in a system of equations where:\n",
        "\n",
        "*c*<sub>1</sub> + 3*c*<sub>2</sub> = -1\n",
        "\n",
        "2*c*<sub>1</sub> + 4*c*<sub>2</sub> = 0\n",
        "\n",
        "We can solve this system of equations by converting it to matricies *a* and *b*, and solving for the solution *x*\n",
        "\n"
      ],
      "metadata": {
        "id": "a4qcM36frNPO"
      }
    },
    {
      "cell_type": "code",
      "source": [
        "a = np.array([[1, 3],[2, 4]])\n",
        "b = np.array([-1, 0])\n",
        "print(\"a: \", a)\n",
        "print(\"b: \", b)\n",
        "x = np.linalg.solve(a, b) #solve ax=b for x\n",
        "print(\"x: \", x)"
      ],
      "metadata": {
        "colab": {
          "base_uri": "https://localhost:8080/"
        },
        "id": "DobGSRZnAM2Y",
        "outputId": "ce340c4c-178c-40e7-b26f-9e142eafe9d1"
      },
      "execution_count": 19,
      "outputs": [
        {
          "output_type": "stream",
          "name": "stdout",
          "text": [
            "a:  [[1 3]\n",
            " [2 4]]\n",
            "b:  [-1  0]\n",
            "x:  [ 2. -1.]\n"
          ]
        }
      ]
    },
    {
      "cell_type": "markdown",
      "source": [
        "This shows that the vector A is a linear combination of the vectors V<sub>1</sub> and V<sub>2</sub>, where *c*<sub>1</sub> = 2 and *c*<sub>2</sub> = -1. This aligns with our previous work in solving for the matrix A given *c*<sub>1</sub> = 2 and *c*<sub>2</sub> = -1."
      ],
      "metadata": {
        "id": "0Eig_XZLDiHt"
      }
    },
    {
      "cell_type": "markdown",
      "source": [
        "***Linear Independence***\n",
        "\n",
        "A set of vectors V is linearly independent if the equation:\n",
        "\n",
        "c<sub>1</sub>V<sub>1</sub> + c<sub>2</sub>V<sub>2</sub> +...+ c<sub>k</sub>V<sub>k</sub> = 0\n",
        "\n",
        "is only satisfied when c<sub>1</sub>, c<sub>2</sub>,...,c<sub>k</sub> = 0\n",
        "\n",
        "We can also use the determinant of a matrix to determine if a set of vectors is linearly independent. If the determinant of the matrix is not 0, then the vectors are linearly independent. Vectors that are not linearly independent are called linearly dependent.\n",
        "\n",
        "Let V<sub>1</sub>, V<sub>2</sub>, and V<sub>3</sub> be the following:\n",
        "\n",
        "V1 = [2, 2, 1], V2 = [-4, 6, 5], V3 = [1, 0, 0]"
      ],
      "metadata": {
        "id": "5k6rp5cGFru4"
      }
    },
    {
      "cell_type": "code",
      "source": [
        "def isLinIndependent(V1, V2, V3):\n",
        "  M = np.array([V1, V2, V3])\n",
        "  return np.linalg.det(M) != 0\n",
        "V1 = np.array([2,2,1])\n",
        "V2 = np.array([-4,6,5])\n",
        "V3 = np.array([-1,0,0])\n",
        "if isLinIndependent(V1, V2, V3):\n",
        "  print(\"The vectors are linearly independent\")\n",
        "else:\n",
        "  print(\"The vectors are linearly dependent\")"
      ],
      "metadata": {
        "colab": {
          "base_uri": "https://localhost:8080/"
        },
        "id": "KXBXeFTGx2AE",
        "outputId": "b1203418-97da-462b-b38f-22f8198a7500"
      },
      "execution_count": 9,
      "outputs": [
        {
          "output_type": "stream",
          "name": "stdout",
          "text": [
            "The vectors are linearly independent\n"
          ]
        }
      ]
    },
    {
      "cell_type": "markdown",
      "source": [
        "***Span***\n",
        "\n",
        "The span of a set of vectors *S* = {V<sub>1</sub>, V<sub>2</sub>,...V<sub>k</sub>} is said to be the set of all linear combinations in *S*. We can define the span of S as:\n",
        "<center>span(S) = {c<sub>1</sub>V<sub>1</sub>, c<sub>2</sub>V<sub>2</sub>,...c<sub>k</sub>V<sub>k</sub>} where c<sub>1</sub>, c<sub>2</sub>, and c<sub>k</sub> are real numbers</center>\n",
        "\n",
        "***Basis***\n",
        "\n",
        "Given U, a linear subspace of V, its basis is the set of vectors that both span U and are linearly independent.\n",
        "\n",
        "***Dimension***\n",
        "\n",
        "Given U, a linear subspace of V, all bases of U will have the same length of elements, which we denote as the dimension of U.\n",
        "\n",
        "***Column Space***\n",
        "\n",
        "Given a matrix A, its column space, col(A), is the span of its columns."
      ],
      "metadata": {
        "id": "H3UL-aC7vbYB"
      }
    },
    {
      "cell_type": "markdown",
      "source": [],
      "metadata": {
        "id": "hs6qR8Q8GUGt"
      }
    }
  ]
}