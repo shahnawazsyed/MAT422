{
  "nbformat": 4,
  "nbformat_minor": 0,
  "metadata": {
    "colab": {
      "provenance": [],
      "authorship_tag": "ABX9TyMLEV8df6N4/DsU4Jmn0wZr",
      "include_colab_link": true
    },
    "kernelspec": {
      "name": "python3",
      "display_name": "Python 3"
    },
    "language_info": {
      "name": "python"
    }
  },
  "cells": [
    {
      "cell_type": "markdown",
      "metadata": {
        "id": "view-in-github",
        "colab_type": "text"
      },
      "source": [
        "<a href=\"https://colab.research.google.com/github/shahnawazsyed/MAT422/blob/main/HW2.ipynb\" target=\"_parent\"><img src=\"https://colab.research.google.com/assets/colab-badge.svg\" alt=\"Open In Colab\"/></a>"
      ]
    },
    {
      "cell_type": "markdown",
      "source": [
        "# **2.2 Probability Distributions**\n",
        "*   2.2.1: Probability axioms\n",
        "*   2.2.2: Conditional probability\n",
        "*   2.2.3: Discrete random variables\n",
        "*   2.2.4: Continuous random variables   "
      ],
      "metadata": {
        "id": "B2PWedQUgebw"
      }
    },
    {
      "cell_type": "code",
      "execution_count": null,
      "metadata": {
        "id": "QtQtNzNMgQ3t"
      },
      "outputs": [],
      "source": []
    }
  ]
}