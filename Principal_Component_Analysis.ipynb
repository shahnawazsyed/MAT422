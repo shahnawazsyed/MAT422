{
  "nbformat": 4,
  "nbformat_minor": 0,
  "metadata": {
    "colab": {
      "provenance": [],
      "include_colab_link": true
    },
    "kernelspec": {
      "name": "python3",
      "display_name": "Python 3"
    },
    "language_info": {
      "name": "python"
    }
  },
  "cells": [
    {
      "cell_type": "markdown",
      "metadata": {
        "id": "view-in-github",
        "colab_type": "text"
      },
      "source": [
        "<a href=\"https://colab.research.google.com/github/shahnawazsyed/MAT422/blob/main/HW14.ipynb\" target=\"_parent\"><img src=\"https://colab.research.google.com/assets/colab-badge.svg\" alt=\"Open In Colab\"/></a>"
      ]
    },
    {
      "cell_type": "markdown",
      "source": [
        "# **1.4 Principal Component Analysis**\n",
        "*   1.4.1: Singular value decomposition\n",
        "*   1.4.2: Low-rank matrix approximations\n",
        "*   1.4.3: Principal component analysis\n",
        "\n"
      ],
      "metadata": {
        "id": "TlLVfJLIU7_M"
      }
    },
    {
      "cell_type": "code",
      "execution_count": 1,
      "metadata": {
        "id": "0TwQ8AWVUv8d"
      },
      "outputs": [],
      "source": [
        "import numpy as np\n",
        "import matplotlib.pyplot as plt"
      ]
    },
    {
      "cell_type": "code",
      "source": [
        "def isSymmetric(A): #check if matrix is symmetric\n",
        "  return np.allclose(A, np.transpose(A))"
      ],
      "metadata": {
        "id": "NM4ujs_mXr4V"
      },
      "execution_count": 38,
      "outputs": []
    },
    {
      "cell_type": "code",
      "source": [
        "def SVD(A): #used as helper method in 1.4.2\n",
        "  eigenvalues = np.linalg.eig(np.transpose(A)@A)\n",
        "  eigenvectors = eigenvalues[1]\n",
        "  eigenvalues = eigenvalues[0]\n",
        "  SV = np.sqrt(eigenvalues)\n",
        "  SV = np.sort(SV)[::-1]\n",
        "  sigma = np.diag(SV, 0)\n",
        "  V = (eigenvectors[:, np.argsort(eigenvalues)[::-1]])\n",
        "  U = (A @ V) @ np.linalg.inv(sigma)\n",
        "  return U, sigma, V #NOTE: V is returned NOT already transposed"
      ],
      "metadata": {
        "id": "cIZWCmSKcIdA"
      },
      "execution_count": null,
      "outputs": []
    },
    {
      "cell_type": "markdown",
      "source": [
        "# **1.4.1 Singular Value Decomposition**"
      ],
      "metadata": {
        "id": "cS9VUP0sVK2c"
      }
    },
    {
      "cell_type": "code",
      "source": [
        "A = np.random.randint(10, size=(3,3))\n",
        "print(A)"
      ],
      "metadata": {
        "colab": {
          "base_uri": "https://localhost:8080/"
        },
        "id": "oesEAduIVSEv",
        "outputId": "a2ba790e-69d4-4e27-8b91-6d446c753eac"
      },
      "execution_count": null,
      "outputs": [
        {
          "output_type": "stream",
          "name": "stdout",
          "text": [
            "[[8 5 6]\n",
            " [3 3 9]\n",
            " [1 7 2]]\n"
          ]
        }
      ]
    },
    {
      "cell_type": "markdown",
      "source": [
        "The singular values (σ<sub>1</sub>...σ<sub>n</sub>) of *A* are the square roots of the eigenvalues of *A*<sup>T</sup>*A*:"
      ],
      "metadata": {
        "id": "dcMdupo51paU"
      }
    },
    {
      "cell_type": "code",
      "source": [
        "eigenvalues = np.linalg.eig(np.transpose(A)@A)\n",
        "eigenvectors = eigenvalues[1]\n",
        "eigenvalues = eigenvalues[0]\n",
        "print(\"Eigenvalues: \", (eigenvalues))"
      ],
      "metadata": {
        "colab": {
          "base_uri": "https://localhost:8080/"
        },
        "id": "5aBry4qEVc3V",
        "outputId": "2461d879-2385-4bf2-95fd-ce044aaa8ff6"
      },
      "execution_count": null,
      "outputs": [
        {
          "output_type": "stream",
          "name": "stdout",
          "text": [
            "Eigenvalues:  [243.93792934  20.05584078   4.00622987]\n"
          ]
        }
      ]
    },
    {
      "cell_type": "code",
      "source": [
        "SV = np.sqrt(eigenvalues)\n",
        "SV = np.sort(SV)[::-1]\n",
        "print(\"Singular values: \", SV)"
      ],
      "metadata": {
        "colab": {
          "base_uri": "https://localhost:8080/"
        },
        "id": "xj51-2fNWDUz",
        "outputId": "ad602e57-652c-4997-cdf8-5dd7a92bb227"
      },
      "execution_count": null,
      "outputs": [
        {
          "output_type": "stream",
          "name": "stdout",
          "text": [
            "Singular values:  [15.61851239  4.47837479  2.00155686]\n"
          ]
        }
      ]
    },
    {
      "cell_type": "markdown",
      "source": [
        "Let *A* be an *m* x *n* matrix with the dimension of Col(*A*) = *r*. There then exists an *m* x *n* matrix Σ, where the diagonal entries are the first *r* singular values of *A*, arranged in decreasing order. Additionally, there exists an *m* x *m* orthogonal matrix *U* and an *n* x *n* orthogonal matrix V where:\n",
        "\n",
        "A = UΣV<sup>T</sup>\n",
        "\n",
        "This is the Singular Value Decomposition (SVD) of *A*. Using the singular values obtained before, we can construct the matrix Σ:"
      ],
      "metadata": {
        "id": "aBgumCx52PJI"
      }
    },
    {
      "cell_type": "code",
      "source": [
        "sigma = np.diag(SV, 0)\n",
        "print(sigma)"
      ],
      "metadata": {
        "colab": {
          "base_uri": "https://localhost:8080/"
        },
        "id": "2whwgW6T25mD",
        "outputId": "d9d51f5a-f441-421d-ae4c-c7b57c057971"
      },
      "execution_count": null,
      "outputs": [
        {
          "output_type": "stream",
          "name": "stdout",
          "text": [
            "[[15.61851239  0.          0.        ]\n",
            " [ 0.          4.47837479  0.        ]\n",
            " [ 0.          0.          2.00155686]]\n"
          ]
        }
      ]
    },
    {
      "cell_type": "markdown",
      "source": [
        "The matrix V has columns corresponding to the normalized eigenvectors of *A*<sup>T</sup>*A*:"
      ],
      "metadata": {
        "id": "56Jzu7f032vC"
      }
    },
    {
      "cell_type": "code",
      "source": [
        "V = (eigenvectors[:, np.argsort(eigenvalues)[::-1]])\n",
        "print(V)"
      ],
      "metadata": {
        "colab": {
          "base_uri": "https://localhost:8080/"
        },
        "id": "fw8CTZ3N4OkU",
        "outputId": "9cd37e72-103e-4fdc-f3b6-422282224a80"
      },
      "execution_count": null,
      "outputs": [
        {
          "output_type": "stream",
          "name": "stdout",
          "text": [
            "[[ 0.46873299  0.87465264 -0.12358052]\n",
            " [ 0.35021045 -0.31244377 -0.88302408]\n",
            " [ 0.81095131 -0.37062333  0.45276519]]\n"
          ]
        }
      ]
    },
    {
      "cell_type": "markdown",
      "source": [
        "Finally, we form the matrix U, by re-arranging the SVD equation and evaluating AV/Σ"
      ],
      "metadata": {
        "id": "JfUUjDVC4pGb"
      }
    },
    {
      "cell_type": "code",
      "source": [
        "U = (A @ V) @ np.linalg.inv(sigma)\n",
        "print(U)"
      ],
      "metadata": {
        "colab": {
          "base_uri": "https://localhost:8080/"
        },
        "id": "msv9otkn5nak",
        "outputId": "8f381638-428a-4617-f144-df743edf3cf4"
      },
      "execution_count": null,
      "outputs": [
        {
          "output_type": "stream",
          "name": "stdout",
          "text": [
            "[[ 0.36396881 -0.37101207  0.85432825]\n",
            " [ 0.72273885  0.69107731 -0.00779136]\n",
            " [ 0.58751618 -0.62029203 -0.51967542]]\n"
          ]
        }
      ]
    },
    {
      "cell_type": "markdown",
      "source": [
        "We verify the condition of SVD: A = UΣV<sup>T</sup>"
      ],
      "metadata": {
        "id": "IU2zuKGh5zAF"
      }
    },
    {
      "cell_type": "code",
      "source": [
        "print(np.allclose(A, U@sigma@V.transpose(), atol=1e-8))"
      ],
      "metadata": {
        "colab": {
          "base_uri": "https://localhost:8080/"
        },
        "id": "F9YRuvHU56HU",
        "outputId": "b607d43d-ba7c-494d-99fc-2d76874db444"
      },
      "execution_count": null,
      "outputs": [
        {
          "output_type": "stream",
          "name": "stdout",
          "text": [
            "True\n"
          ]
        }
      ]
    },
    {
      "cell_type": "markdown",
      "source": [
        "# **1.4.2 Low-Rank Matrix Approximations**"
      ],
      "metadata": {
        "id": "sH7F4ueJhFOz"
      }
    },
    {
      "cell_type": "markdown",
      "source": [
        "Suppose we wish to approximate a matrix *A* with a rank-*k* matrix $\\hat{A}$, for a target rank *k*.\n",
        "\n",
        "For computing applications, this is desirable as a compressed version of *A*. For example, it can greatly reduce the amount of parameters, and thus improve performance, in a machine learning model.\n",
        "\n",
        "We can use the SVD to compute our approximation. The SVD expresses *A* as a sum of rank-1 matricies.\n",
        "\n",
        "If we want a rank-*k* matrix, we need:\n",
        "\n",
        "U<sub>k</sub>, the first *k* columns of U.\n",
        "\n",
        "V<sub>k</sub><sup>T</sup>, the first *k* rows of V<sup>T</sup>.\n",
        "\n",
        "Σ<sub>k</sub>, the first *k* rows and columns of Σ.\n",
        "\n",
        "This forms a rank-*k* approximation of $\\hat{A}$ = U<sub>k</sub>Σ<sub>k</sub>V<sub>k</sub><sup>T</sup>."
      ],
      "metadata": {
        "id": "pYwrpNb7yWIK"
      }
    },
    {
      "cell_type": "code",
      "source": [
        "A = np.random.randint(50, size=(5,5))\n",
        "print(\"A:\")\n",
        "print(A)\n",
        "k = np.random.randint(1, A.shape[1])\n",
        "print(\"Approximate A with a rank-k matrix where k =\", k)"
      ],
      "metadata": {
        "colab": {
          "base_uri": "https://localhost:8080/"
        },
        "id": "BWZ_cMwE4Spm",
        "outputId": "e7bdf11b-763f-4246-b73c-09a90f9c1044"
      },
      "execution_count": null,
      "outputs": [
        {
          "output_type": "stream",
          "name": "stdout",
          "text": [
            "A:\n",
            "[[ 1  9 40 49 35]\n",
            " [46 15 48 48 48]\n",
            " [29 14 16 31 10]\n",
            " [ 9 45 37 40  2]\n",
            " [15 22  2 19 38]]\n",
            "Approximate A with a rank-k matrix where k = 3\n"
          ]
        }
      ]
    },
    {
      "cell_type": "code",
      "source": [
        "U, Sigma, V = SVD(A)\n",
        "U_k = U[:, :k]\n",
        "V_kT = np.transpose(V)[:k, :]\n",
        "sigma_K = Sigma[:k, :k]\n",
        "print(\"U_k:\")\n",
        "print(U_k)\n",
        "print(\"V_kT:\")\n",
        "print(V_kT)\n",
        "print(\"Sigma_k:\")\n",
        "print(sigma_K)"
      ],
      "metadata": {
        "colab": {
          "base_uri": "https://localhost:8080/"
        },
        "id": "nJxTzclO4qYW",
        "outputId": "377f83fa-0436-4e58-fa03-fef61c431d01"
      },
      "execution_count": null,
      "outputs": [
        {
          "output_type": "stream",
          "name": "stdout",
          "text": [
            "U_k:\n",
            "[[-0.47187287  0.02164685  0.8197576 ]\n",
            " [-0.65168227 -0.42450945 -0.13316381]\n",
            " [-0.31250801  0.01593298 -0.42608199]\n",
            " [-0.4179271   0.84513671 -0.19517292]\n",
            " [-0.28341117 -0.32374869 -0.30104243]]\n",
            "V_kT:\n",
            "[[-0.33150812 -0.3030094  -0.49655881 -0.60123519 -0.43615737]\n",
            " [-0.36434289  0.55810456  0.25417458  0.19750079 -0.67243012]\n",
            " [-0.73690657 -0.49232616  0.3620022   0.21678281  0.19116295]]\n",
            "Sigma_k:\n",
            "[[143.35848109   0.           0.        ]\n",
            " [  0.          44.72087139   0.        ]\n",
            " [  0.           0.          32.47948805]]\n"
          ]
        }
      ]
    },
    {
      "cell_type": "code",
      "source": [
        "#compute A_hat using formula\n",
        "A_hat = U_k@sigma_K@V_kT\n",
        "print(A_hat)"
      ],
      "metadata": {
        "colab": {
          "base_uri": "https://localhost:8080/"
        },
        "id": "6Xu9HxF197VO",
        "outputId": "eabc09c3-8c63-478b-f653-28314b3e228d"
      },
      "execution_count": null,
      "outputs": [
        {
          "output_type": "stream",
          "name": "stdout",
          "text": [
            "[[ 2.45245099  7.92961695 43.47518055 46.63484648 33.94354378]\n",
            " [41.07490702 19.84246267 39.99954716 51.48285947 52.6865522 ]\n",
            " [24.79017416 20.78595979 17.41755633 24.07642686 16.41552291]\n",
            " [10.76268299 42.36893643 37.06234191 42.11242188 -0.49480031]\n",
            " [25.9493032   9.04448974 12.95531196 19.4487038  25.58733629]]\n"
          ]
        }
      ]
    },
    {
      "cell_type": "markdown",
      "source": [
        "We can evaluate the validity of our approximation by way of the Frobenius norm. We apply the ℓ<sub>2</sub> norm to ||*A* - $\\hat{A}$||:"
      ],
      "metadata": {
        "id": "VCNQZPNAJG_l"
      }
    },
    {
      "cell_type": "code",
      "source": [
        "print(\"Difference between A and approximation:\", np.linalg.norm(A - A_hat, 'fro')) #calculate frobenius norm"
      ],
      "metadata": {
        "colab": {
          "base_uri": "https://localhost:8080/"
        },
        "id": "sYceaAqK-Lwd",
        "outputId": "adef11f0-1fab-4912-8092-e66bd252ba3b"
      },
      "execution_count": null,
      "outputs": [
        {
          "output_type": "stream",
          "name": "stdout",
          "text": [
            "Difference between A and approximation: 30.091068728644988\n"
          ]
        }
      ]
    },
    {
      "cell_type": "markdown",
      "source": [
        "Naturally, a lower rank will result in a more compressed, and thus more efficient, $\\hat{A}$. But does this come at the cost of accuracy? We can investigate:"
      ],
      "metadata": {
        "id": "Ea8wN_elQfJx"
      }
    },
    {
      "cell_type": "code",
      "source": [
        "def computeLowRank(A, k):\n",
        "  U, Sigma, V = SVD(A)\n",
        "  U_k = U[:, :k]\n",
        "  V_kT = np.transpose(V)[:k, :]\n",
        "  sigma_K = Sigma[:k, :k]\n",
        "  A_hat = U_k@sigma_K@V_kT\n",
        "  return np.linalg.norm(A - A_hat, 'fro') #calculate frobenius norm\n",
        "\n",
        "for k in range(1, A.shape[1]+1): #calculate the accuracy of approximation for each rank from 1 to 10\n",
        "  print(f\"Frobenius norm (error) of rank {k} approximation of A:\", computeLowRank(A, k))"
      ],
      "metadata": {
        "colab": {
          "base_uri": "https://localhost:8080/"
        },
        "id": "J2MXErb0Q5Me",
        "outputId": "0f0c9afc-320f-4d6d-bf09-c1599072e259"
      },
      "execution_count": null,
      "outputs": [
        {
          "output_type": "stream",
          "name": "stdout",
          "text": [
            "Frobenius norm (error) of rank 1 approximation of A: 62.931279175632014\n",
            "Frobenius norm (error) of rank 2 approximation of A: 44.27628666910379\n",
            "Frobenius norm (error) of rank 3 approximation of A: 30.091068728644988\n",
            "Frobenius norm (error) of rank 4 approximation of A: 11.182592260205732\n",
            "Frobenius norm (error) of rank 5 approximation of A: 7.84534212228327e-14\n"
          ]
        }
      ]
    },
    {
      "cell_type": "markdown",
      "source": [
        "As shown, the error has an inverse relationship with rank. We can investigate further with a larger matrix, allowing for us to try more ranks and graph the results:"
      ],
      "metadata": {
        "id": "cgMpdrEVSzQt"
      }
    },
    {
      "cell_type": "code",
      "source": [
        "A = np.random.randint(50, size=(100,100)) #100 x 100 matrix\n",
        "x_vals = []\n",
        "y_vals = []\n",
        "for k in range(1, A.shape[1]+1):\n",
        "  x_vals.append(k)\n",
        "  y_vals.append(computeLowRank(A, k))\n",
        "plt.plot(x_vals, y_vals)\n",
        "plt.xlabel(\"Rank\")\n",
        "plt.ylabel(\"Frobenius Norm (Error)\")\n",
        "plt.title(\"Accuracy of Different Rank Approximations\")\n",
        "plt.show()"
      ],
      "metadata": {
        "colab": {
          "base_uri": "https://localhost:8080/",
          "height": 472
        },
        "id": "CLDgrzLERl5p",
        "outputId": "4af204e9-00aa-46b0-fdef-e91111d1e727"
      },
      "execution_count": null,
      "outputs": [
        {
          "output_type": "display_data",
          "data": {
            "text/plain": [
              "<Figure size 640x480 with 1 Axes>"
            ],
            "image/png": "[encoded data removed]"
          },
          "metadata": {}
        }
      ]
    },
    {
      "cell_type": "markdown",
      "source": [
        "# **1.4.3 Principal Component Analysis**"
      ],
      "metadata": {
        "id": "o6qoJj0QiccM"
      }
    },
    {
      "cell_type": "markdown",
      "source": [
        "Let *A* be an *n* by *m* matrix, representing a dataset."
      ],
      "metadata": {
        "id": "NYIs56sxQJfg"
      }
    },
    {
      "cell_type": "code",
      "source": [
        "n = np.random.randint(3, 15)\n",
        "m = np.random.randint(3, 15)\n",
        "A = np.random.randint(10, size=(m,n))\n",
        "print(A)"
      ],
      "metadata": {
        "colab": {
          "base_uri": "https://localhost:8080/"
        },
        "id": "3ot3pcGhQTSH",
        "outputId": "ea0176f1-c3e3-433f-fe0d-f42846f650f3"
      },
      "execution_count": 45,
      "outputs": [
        {
          "output_type": "stream",
          "name": "stdout",
          "text": [
            "[[8 9 3 7 9 1 3 5 0 1 2]\n",
            " [4 2 5 6 7 1 0 8 2 5 5]\n",
            " [7 7 9 4 6 4 8 3 3 6 0]\n",
            " [0 0 2 9 4 2 7 6 3 5 1]\n",
            " [3 9 3 6 8 6 8 0 3 6 7]\n",
            " [9 9 8 9 7 7 9 9 7 8 4]\n",
            " [8 6 0 4 5 3 5 0 9 0 0]]\n"
          ]
        }
      ]
    },
    {
      "cell_type": "markdown",
      "source": [
        "Suppose we wish to compute the mean of this dataset and store it in a single vector $\\overrightarrow{μ}$:\n",
        "\n",
        "$\\overrightarrow{μ}$ = $\\frac{1}{n}(\\overrightarrow{x}_1+...+\\overrightarrow{x}_n)$\n",
        "\n",
        "where $\\overrightarrow{x}_1...\\overrightarrow{x}_n$ represent the columns of *A*.\n"
      ],
      "metadata": {
        "id": "CCWsEa0PSH-G"
      }
    },
    {
      "cell_type": "code",
      "source": [
        "u = np.round(np.mean(A, axis=0), 2)\n",
        "print(u)"
      ],
      "metadata": {
        "colab": {
          "base_uri": "https://localhost:8080/"
        },
        "id": "nKsBURTQUnfE",
        "outputId": "d1eac6b8-a6b5-47a6-f82f-2f8941640c9d"
      },
      "execution_count": 46,
      "outputs": [
        {
          "output_type": "stream",
          "name": "stdout",
          "text": [
            "[5.57 6.   4.29 6.43 6.57 3.43 5.71 4.43 3.86 4.43 2.71]\n"
          ]
        }
      ]
    },
    {
      "cell_type": "markdown",
      "source": [
        "In order to guarantee a mean of 0 (centering our data), we perform the following calculation, resulting in a new matrix *B*:\n",
        "\n",
        "*B* = [$\\overrightarrow{x}_1-\\overrightarrow{μ}|...|\\overrightarrow{x}_n-\\overrightarrow{μ}]$\n"
      ],
      "metadata": {
        "id": "aH-WYvP7VKk2"
      }
    },
    {
      "cell_type": "code",
      "source": [
        "B = A - u\n",
        "print(B)\n",
        "print(\"New mean: \", np.round(np.mean(B, axis=0), 2))"
      ],
      "metadata": {
        "colab": {
          "base_uri": "https://localhost:8080/"
        },
        "id": "f0_b7WwYVroe",
        "outputId": "f8fda138-9fd9-47e5-9941-033ba081600f"
      },
      "execution_count": 47,
      "outputs": [
        {
          "output_type": "stream",
          "name": "stdout",
          "text": [
            "[[ 2.43  3.   -1.29  0.57  2.43 -2.43 -2.71  0.57 -3.86 -3.43 -0.71]\n",
            " [-1.57 -4.    0.71 -0.43  0.43 -2.43 -5.71  3.57 -1.86  0.57  2.29]\n",
            " [ 1.43  1.    4.71 -2.43 -0.57  0.57  2.29 -1.43 -0.86  1.57 -2.71]\n",
            " [-5.57 -6.   -2.29  2.57 -2.57 -1.43  1.29  1.57 -0.86  0.57 -1.71]\n",
            " [-2.57  3.   -1.29 -0.43  1.43  2.57  2.29 -4.43 -0.86  1.57  4.29]\n",
            " [ 3.43  3.    3.71  2.57  0.43  3.57  3.29  4.57  3.14  3.57  1.29]\n",
            " [ 2.43  0.   -4.29 -2.43 -1.57 -0.43 -0.71 -4.43  5.14 -4.43 -2.71]]\n",
            "New mean:  [ 0.  0. -0. -0.  0. -0.  0. -0. -0. -0.  0.]\n"
          ]
        }
      ]
    },
    {
      "cell_type": "markdown",
      "source": [
        "From this, we can define a covariance matrix *S*, which will be used to examine the variance of our data.\n",
        "\n",
        "*S* = $\\frac{1}{n-1}$*BB*<sup>*T*</sup>\n",
        "\n",
        "*S* will be a symmetric matrix (*m* x *m*)."
      ],
      "metadata": {
        "id": "1W8D6NmbXEHL"
      }
    },
    {
      "cell_type": "code",
      "source": [
        "S = (1/(n-1))*(B@np.transpose(B))\n",
        "print(S)\n",
        "print(isSymmetric(S))"
      ],
      "metadata": {
        "colab": {
          "base_uri": "https://localhost:8080/"
        },
        "id": "WTy5kx8nXd5a",
        "outputId": "bd5778b6-ba54-432c-b57f-557b4bc62beb"
      },
      "execution_count": 48,
      "outputs": [
        {
          "output_type": "stream",
          "name": "stdout",
          "text": [
            "[[ 6.35413  1.10813 -1.09187 -2.99087 -1.24387 -2.52087  0.39613]\n",
            " [ 1.10813  7.96213 -2.53787  2.86313 -3.08987 -2.76687 -3.54987]\n",
            " [-1.09187 -2.53787  4.96213 -2.33687 -0.18987  2.13313 -0.94987]\n",
            " [-2.99087  2.86313 -2.33687  9.56413 -1.88887 -3.66587 -1.54887]\n",
            " [-1.24387 -3.08987 -0.18987 -1.88887  7.25813 -0.01887 -0.80187]\n",
            " [-2.52087 -2.76687  2.13313 -3.66587 -0.01887 11.00413 -4.17887]\n",
            " [ 0.39613 -3.54987 -0.94987 -1.54887 -0.80187 -4.17887 10.63813]]\n",
            "True\n"
          ]
        }
      ]
    },
    {
      "cell_type": "markdown",
      "source": [
        "If we wish to know the variance of the first variable of our dataset, represented by the first row of A, we locate the 1,1 entry of S. For the covariance, between 1st and 2nd variables, we locate the 2,1 entry of S. In general:\n",
        "\n",
        "For 1≤i,j≤m:\n",
        "\n",
        "*S<sub>ii</sub>* = var(*i*)\n",
        "\n",
        "*S<sub>ij</sub>* = cov(*i*, *j*), where *i* $\\neq$ *j*\n",
        "\n",
        "where *i* and *j* represent the *i*th and *j*th variables of the dataset."
      ],
      "metadata": {
        "id": "yruUpYQ_YffZ"
      }
    },
    {
      "cell_type": "code",
      "source": [
        "var = S[0,0]\n",
        "print(\"Variance of 1st variable: \", var)\n",
        "cov = S[1,0]\n",
        "print(\"Covariance between 1st and 2nd variables: \", cov)"
      ],
      "metadata": {
        "colab": {
          "base_uri": "https://localhost:8080/"
        },
        "id": "dozK6jSoaPqD",
        "outputId": "d77aa8f1-c49f-4806-ef56-6c1681f3f85e"
      },
      "execution_count": 49,
      "outputs": [
        {
          "output_type": "stream",
          "name": "stdout",
          "text": [
            "Variance of 1st variable:  6.35413\n",
            "Covariance between 1st and 2nd variables:  1.1081299999999998\n"
          ]
        }
      ]
    },
    {
      "cell_type": "markdown",
      "source": [
        "The total variance of the dataset is the sum of the values along *S*'s diagonal."
      ],
      "metadata": {
        "id": "zBHBKk5Fbkz9"
      }
    },
    {
      "cell_type": "code",
      "source": [
        "totalVariance = np.sum(np.diag(S))\n",
        "print(\"Total variance: \", totalVariance)"
      ],
      "metadata": {
        "colab": {
          "base_uri": "https://localhost:8080/"
        },
        "id": "BN0LoNMhbwrH",
        "outputId": "90aff3bf-d905-477b-a988-8576d4b0eb61"
      },
      "execution_count": 50,
      "outputs": [
        {
          "output_type": "stream",
          "name": "stdout",
          "text": [
            "Total variance:  57.74291000000001\n"
          ]
        }
      ]
    }
  ]
}
