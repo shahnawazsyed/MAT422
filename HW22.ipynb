{
  "nbformat": 4,
  "nbformat_minor": 0,
  "metadata": {
    "colab": {
      "provenance": [],
      "collapsed_sections": [
        "8QlQukVxjGE6"
      ],
      "authorship_tag": "ABX9TyNywv6P3FzJBrTMLU9RmCLp",
      "include_colab_link": true
    },
    "kernelspec": {
      "name": "python3",
      "display_name": "Python 3"
    },
    "language_info": {
      "name": "python"
    }
  },
  "cells": [
    {
      "cell_type": "markdown",
      "metadata": {
        "id": "view-in-github",
        "colab_type": "text"
      },
      "source": [
        "<a href=\"https://colab.research.google.com/github/shahnawazsyed/MAT422/blob/main/HW22.ipynb\" target=\"_parent\"><img src=\"https://colab.research.google.com/assets/colab-badge.svg\" alt=\"Open In Colab\"/></a>"
      ]
    },
    {
      "cell_type": "markdown",
      "source": [
        "# **2.2 Probability Distributions**\n",
        "*   2.2.1: Probability Axioms\n",
        "*   2.2.2: Conditional Probability\n",
        "*   2.2.3: Discrete Random Variables\n",
        "*   2.2.4: Continuous Random Variables   "
      ],
      "metadata": {
        "id": "B2PWedQUgebw"
      }
    },
    {
      "cell_type": "code",
      "source": [
        "import numpy as np\n",
        "import matplotlib.pyplot as plt\n",
        "from scipy.stats import norm"
      ],
      "metadata": {
        "id": "vm0-CY05isEo"
      },
      "execution_count": 16,
      "outputs": []
    },
    {
      "cell_type": "markdown",
      "source": [
        "# **2.2.1 Probability Axioms**"
      ],
      "metadata": {
        "id": "8TXTL8ahi6MA"
      }
    },
    {
      "cell_type": "markdown",
      "source": [
        "The sample space of an experiment, *S*, is the set of all possible outcomes of the experiement. An event is any subset of outcomes in *S*. A simple event consists of exactly one outcome. A compound event consists of more than one outcome.\n",
        "\n",
        "The probability distribution is a function that assigns, to each event *A* in *S*, *P(A)*, which represents the probability, or chance, of *A* occuring.\n",
        "\n",
        "In some cases, for an experiment with *N* possible outcomes, the probability of each event occuring could be equal. Thus, for *N* equally likely outcomes, the probability of each occuring is $\\frac{1}{N}$.\n"
      ],
      "metadata": {
        "id": "z4dx7i87g97M"
      }
    },
    {
      "cell_type": "code",
      "execution_count": 17,
      "metadata": {
        "id": "QtQtNzNMgQ3t",
        "colab": {
          "base_uri": "https://localhost:8080/"
        },
        "outputId": "89598e29-bac6-48b9-8dce-c3929a500b5b"
      },
      "outputs": [
        {
          "output_type": "stream",
          "name": "stdout",
          "text": [
            "Number of possible outcomes:  7\n",
            "Probability of each outcome:  0.14285714285714285\n"
          ]
        }
      ],
      "source": [
        "def equally_likely(num_outcomes):\n",
        "  return 1/num_outcomes\n",
        "num_outcomes = np.random.randint(1,10)\n",
        "print(\"Number of possible outcomes: \", num_outcomes)\n",
        "print(\"Probability of each outcome: \", equally_likely(num_outcomes))"
      ]
    },
    {
      "cell_type": "markdown",
      "source": [
        "# **2.2.2 Conditional Probability**"
      ],
      "metadata": {
        "id": "8QlQukVxjGE6"
      }
    },
    {
      "cell_type": "markdown",
      "source": [
        "Conditional probability is the likelihood of an event *A* occuring given that another event *B* already occured. This is denoted by $P(A|B)$. The formula for conditional probability is:\n",
        "\n",
        "$P(A|B)$ = $\\frac{P(A⋂B)}{P(B)}$\n",
        "\n",
        "where $P(A⋂B)$ is the joint probability of events *A* and *B* occuring.\n",
        "\n",
        "Events *A* and *B* are considered to be independent events if the occurance or nonoccurance of one event has no effect on the probability of the other event occuring. That is,\n",
        "\n",
        "$P(A|B) = P(A)$ or $P(A⋂B) = P(A) \\times P(B)$\n",
        "\n",
        "This property can be applied to multiple events. Consider the set of events $A_1,A_2,...A_n$. These events are mutually independent if:\n",
        "\n",
        "$P(A_1⋃A_2⋃...⋃A_n) = P(A_1) \\times P(A_2) \\times ... \\times P(A_n)$"
      ],
      "metadata": {
        "id": "r0x7kTaZjRtn"
      }
    },
    {
      "cell_type": "code",
      "source": [
        "A = np.random.randint(0,100)/100\n",
        "B = np.random.randint(0,100)/100\n",
        "print(\"P(A): \", A)\n",
        "print(\"P(B): \", B)\n",
        "def conditional_prob(A,B):\n",
        "  return (A*B)/B\n",
        "def is_independent(A,B):\n",
        "  return conditional_prob(A,B) == A\n",
        "print(\"P(A|B): \", conditional_prob(A,B))\n",
        "print(\"Independence of A and B:\", is_independent(A,B))"
      ],
      "metadata": {
        "colab": {
          "base_uri": "https://localhost:8080/"
        },
        "id": "UK_KRKmBmhx2",
        "outputId": "a3a21fee-001b-4d93-c828-c9c070c8310f"
      },
      "execution_count": 18,
      "outputs": [
        {
          "output_type": "stream",
          "name": "stdout",
          "text": [
            "P(A):  0.26\n",
            "P(B):  0.45\n",
            "P(A|B):  0.26\n",
            "Independence of A and B: True\n"
          ]
        }
      ]
    },
    {
      "cell_type": "markdown",
      "source": [
        "# **2.2.3 Discrete Random Variables**"
      ],
      "metadata": {
        "id": "_-uBE3VwnTfG"
      }
    },
    {
      "cell_type": "markdown",
      "source": [
        "A random variable is a variable whose values depend on outcomes of a random phenomenon. It can be defined as a function whose domain is the sample space *S* of an experiment and whose range is in $\\Re$.\n",
        "\n",
        "A discrete random variable is one whose possible values are either a finite set or can be listed in an infinite sequence."
      ],
      "metadata": {
        "id": "T9_gnJmqpeKT"
      }
    },
    {
      "cell_type": "markdown",
      "source": [
        "A probability mass function (PMF) is a function that returns the probability that a discrete random variable is exactly equal to some value.\n",
        "\n",
        "$p(x) = p(X = x) = P($all s $∈ S: X(s) = x)$\n",
        "\n",
        "The cumulative distribution function (CDF) of a discrete random variable with PMF p(x) is defined as:\n",
        "\n",
        "$F(x) = P(X ≤ x) = \\Sigma_{y: y≤x} p(y)$\n",
        "\n",
        "The expected value (E(X)) of a random variable X is essentially the mean of numerous trials of an experiment involving X.\n",
        "\n",
        "$E(X) = \\Sigma_{x∈D} x⋅p(x)$\n",
        "\n",
        "where D is the set of all possible values of X.\n",
        "\n",
        "The variance (Var(X)) of a random variable X measures how spread out X is from its expected value.\n",
        "\n",
        "$Var(X) = E[(x-E[X])^2] = \\Sigma_{x∈D} (x-E[X])^2 \\cdot p(x)$"
      ],
      "metadata": {
        "id": "K_KKwS7mGdlw"
      }
    },
    {
      "cell_type": "code",
      "source": [
        "x = [1, 2, 3, 4, 5]\n",
        "p = [0.1, 0.2, 0.3, 0.2, 0.2]\n",
        "print(\"Adds to 1: \", sum(p) == 1) #probabilities should sum up to 1\n",
        "def pmf(x,p):\n",
        "  return p[x]\n",
        "def cdf(x,p):\n",
        "  sum = 0\n",
        "  for i in range(x+1):\n",
        "    sum += p[i]\n",
        "  return sum\n",
        "def expected_value(x,p):\n",
        "  sum = 0\n",
        "  for i in range(len(x)):\n",
        "    sum += x[i]*p[i]\n",
        "  return sum\n",
        "def var(x,p):\n",
        "  sum = 0\n",
        "  for i in range(len(x)):\n",
        "    sum += (x[i]-expected_value(x,p))**2*p[i]\n",
        "  return sum\n",
        "print(\"P(X = 3): \", pmf(3,p))\n",
        "print(\"P(X ≤ 3): \", cdf(3,p))\n",
        "print(\"E(X): \", expected_value(x,p))\n",
        "print(\"Var(X): \", var(x,p))\n",
        "print(\"Standard deviation of X:\", var(x,p)**0.5) #standard deviation is square root of variance"
      ],
      "metadata": {
        "colab": {
          "base_uri": "https://localhost:8080/"
        },
        "id": "I9Y5wbGPJjTZ",
        "outputId": "1bdc4f3c-ce55-4b94-98c5-b9a2c41aefc9"
      },
      "execution_count": 19,
      "outputs": [
        {
          "output_type": "stream",
          "name": "stdout",
          "text": [
            "Adds to 1:  True\n",
            "P(X = 3):  0.2\n",
            "P(X ≤ 3):  0.8\n",
            "E(X):  3.2\n",
            "Var(X):  1.56\n",
            "Standard deviation of X: 1.2489995996796797\n"
          ]
        }
      ]
    },
    {
      "cell_type": "markdown",
      "source": [
        "# **2.2.4 Continuous Random Variables**"
      ],
      "metadata": {
        "id": "frgZsor3qyEL"
      }
    },
    {
      "cell_type": "markdown",
      "source": [
        "A random variable X is continuous if possible values comprise either a single interval on the number line or a union of disjoint intervals.\n",
        "\n",
        "The probability density function (PDF) of a continuous random variable is a function f(x) such that, for any two numbers *a* and *b*, *a* ≤ *b*:\n",
        "\n",
        "$P(a \\le X \\le b) = ∫_{a}^{b}f(x)dx$\n",
        "\n",
        "In other words, the above equation gives the probability that X takes on a value in the interval [*a*,*b*].\n",
        "\n",
        "E(X) and Var(X) are defined as:\n",
        "\n",
        "$E(X) = ∫_{-∞}^{∞}x \\cdot f(x)dx$\n",
        "\n",
        "$Var(X) = ∫_{-∞}^{∞}(x-E(X))^2 \\cdot f(x)dx$"
      ],
      "metadata": {
        "id": "2m-unCO_rA_3"
      }
    },
    {
      "cell_type": "code",
      "source": [
        "def pdf(x):\n",
        "  return norm.pdf(x, loc=0, scale=1)\n",
        "def cdf(x):\n",
        "  return norm.cdf(x, loc=0, scale=1)\n",
        "def expected_value(x):\n",
        "  return norm.expect(lambda x: x, loc=0, scale=1)\n",
        "def var(x):\n",
        "  return norm.expect(lambda x: (x-expected_value(x))**2, loc=0, scale=1)\n",
        "x = np.linspace(-3, 3, 100)\n",
        "y = pdf(x)\n",
        "EV = expected_value(x)\n",
        "var = var(x)\n",
        "print(\"P(-1 ≤ X ≤ 1): \", cdf(1)-cdf(-1))\n",
        "print(\"E(X): \", EV)\n",
        "print(\"Var(X): \", var)\n",
        "print(\"Standard deviation of X:\", var**0.5)"
      ],
      "metadata": {
        "colab": {
          "base_uri": "https://localhost:8080/"
        },
        "id": "ooUBIQz4spVq",
        "outputId": "bf7e57f4-e919-44ab-c36e-aa55b590a4d5"
      },
      "execution_count": 20,
      "outputs": [
        {
          "output_type": "stream",
          "name": "stdout",
          "text": [
            "P(-1 ≤ X ≤ 1):  0.6826894921370859\n",
            "E(X):  -1.3877787807814457e-17\n",
            "Var(X):  1.0\n",
            "Standard deviation of X: 1.0\n"
          ]
        }
      ]
    },
    {
      "cell_type": "markdown",
      "source": [
        "Mathematically, a continuous random variable X has a normal distribution if, for f(x), the probability density function of X:\n",
        "\n",
        "$f(x) = \\frac{1}{\\sqrt{2\\pi}σ}e^{-(x-\\mu)^2/(2σ^2)}$"
      ],
      "metadata": {
        "id": "9ikZGuxzbHc4"
      }
    },
    {
      "cell_type": "code",
      "source": [
        "def isNormalDistribution(mu, sigma):\n",
        "  return all(np.isclose(pdf(x),1/(sigma*np.sqrt(2*np.pi))*np.exp(-(x-mu)**2/(2*sigma**2)), atol=1e-3))\n",
        "print(\"Is X a normal distribution?\", isNormalDistribution(EV,var**0.5))"
      ],
      "metadata": {
        "colab": {
          "base_uri": "https://localhost:8080/"
        },
        "id": "XSPgmKpTbzgg",
        "outputId": "342be0b0-2fca-445d-8f80-ee9614726ef9"
      },
      "execution_count": 21,
      "outputs": [
        {
          "output_type": "stream",
          "name": "stdout",
          "text": [
            "Is X a normal distribution? True\n"
          ]
        }
      ]
    },
    {
      "cell_type": "markdown",
      "source": [
        "We can examine the normal distribution by graphing X, which will take on a \"bell curve\" shape, as all such distributions do:"
      ],
      "metadata": {
        "id": "yaQrisbWdi2Q"
      }
    },
    {
      "cell_type": "code",
      "source": [
        "plt.plot(x, y)\n",
        "plt.xlabel('x')\n",
        "plt.ylabel('PDF(x)')\n",
        "plt.title('Probability Density Function')\n",
        "plt.show()"
      ],
      "metadata": {
        "colab": {
          "base_uri": "https://localhost:8080/",
          "height": 472
        },
        "id": "8DX6HKVRbGA-",
        "outputId": "d6d8a5b0-2e73-4f68-b352-c8c20cd85673"
      },
      "execution_count": 22,
      "outputs": [
        {
          "output_type": "display_data",
          "data": {
            "text/plain": [
              "<Figure size 640x480 with 1 Axes>"
            ],
            "image/png": "[encoded data removed]"
          },
          "metadata": {}
        }
      ]
    }
  ]
}