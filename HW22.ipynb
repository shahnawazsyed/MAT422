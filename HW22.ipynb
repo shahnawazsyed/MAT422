{
  "nbformat": 4,
  "nbformat_minor": 0,
  "metadata": {
    "colab": {
      "provenance": [],
      "authorship_tag": "ABX9TyPAH9Yx/NrtkB08DlqHKw8D",
      "include_colab_link": true
    },
    "kernelspec": {
      "name": "python3",
      "display_name": "Python 3"
    },
    "language_info": {
      "name": "python"
    }
  },
  "cells": [
    {
      "cell_type": "markdown",
      "metadata": {
        "id": "view-in-github",
        "colab_type": "text"
      },
      "source": [
        "<a href=\"https://colab.research.google.com/github/shahnawazsyed/MAT422/blob/main/HW22.ipynb\" target=\"_parent\"><img src=\"https://colab.research.google.com/assets/colab-badge.svg\" alt=\"Open In Colab\"/></a>"
      ]
    },
    {
      "cell_type": "markdown",
      "source": [
        "# **2.2 Probability Distributions**\n",
        "*   2.2.1: Probability Axioms\n",
        "*   2.2.2: Conditional Probability\n",
        "*   2.2.3: Discrete Random Variables\n",
        "*   2.2.4: Continuous Random Variables   "
      ],
      "metadata": {
        "id": "B2PWedQUgebw"
      }
    },
    {
      "cell_type": "code",
      "source": [
        "import numpy as np"
      ],
      "metadata": {
        "id": "vm0-CY05isEo"
      },
      "execution_count": 2,
      "outputs": []
    },
    {
      "cell_type": "markdown",
      "source": [
        "# **2.2.1 Probability Axioms**"
      ],
      "metadata": {
        "id": "8TXTL8ahi6MA"
      }
    },
    {
      "cell_type": "markdown",
      "source": [
        "The sample space of an experiment, *S*, is the set of all possible outcomes of the experiement. An event is any subset of outcomes in *S*. A simple event consists of exactly one outcome. A compound event consists of more than one outcome.\n",
        "\n",
        "The probability distribution is a function that assigns, to each event *A* in *S*, *P(A)*, which represents the probability, or chance, of *A* occuring.\n",
        "\n",
        "In some cases, for an experiment with *N* possible outcomes, the probability of each event occuring could be equal. Thus, for *N* equally likely outcomes, the probability of each occuring is $\\frac{1}{N}$.\n"
      ],
      "metadata": {
        "id": "z4dx7i87g97M"
      }
    },
    {
      "cell_type": "code",
      "execution_count": 5,
      "metadata": {
        "id": "QtQtNzNMgQ3t",
        "colab": {
          "base_uri": "https://localhost:8080/"
        },
        "outputId": "15a7797e-b20b-47ce-94a6-5bd957b42059"
      },
      "outputs": [
        {
          "output_type": "stream",
          "name": "stdout",
          "text": [
            "Number of possibe outcomes:  2\n",
            "Probability of each outcome:  0.5\n"
          ]
        }
      ],
      "source": [
        "def equally_likely(num_outcomes):\n",
        "  return 1/num_outcomes\n",
        "num_outcomes = np.random.randint(1,10)\n",
        "print(\"Number of possibe outcomes: \", num_outcomes)\n",
        "print(\"Probability of each outcome: \", equally_likely(num_outcomes))"
      ]
    },
    {
      "cell_type": "markdown",
      "source": [
        "# **2.2.2 Conditional Probability**"
      ],
      "metadata": {
        "id": "8QlQukVxjGE6"
      }
    },
    {
      "cell_type": "markdown",
      "source": [
        "Conditional probability is the likelihood of an event *A* occuring given that another event *B* already occured. This is denoted by $P(A|B)$. The formula for conditional probability is:\n",
        "\n",
        "$P(A|B)$ = $\\frac{P(A⋂B)}{P(B)}$\n",
        "\n",
        "where $P(A⋂B)$ is the joint probability of events *A* and *B* occuring.\n",
        "\n",
        "Events *A* and *B* are considered to be independent events if the occurance or nonoccurance of one event has no effect on the probability of the other event occuring. That is,\n",
        "\n",
        "$P(A|B) = P(A)$ or $P(A⋂B) = P(A) \\times P(B)$\n",
        "\n",
        "This property can be applied to multiple events. Consider the set of events $A_1,A_2,...A_n$. These events are mutually independent if:\n",
        "\n",
        "$P(A_1⋃A_2⋃...⋃A_n) = P(A_1) \\times P(A_2) \\times ... \\times P(A_n)$"
      ],
      "metadata": {
        "id": "r0x7kTaZjRtn"
      }
    },
    {
      "cell_type": "code",
      "source": [
        "A = np.random.randint(0,100)/100\n",
        "B = np.random.randint(0,100)/100\n",
        "print(\"P(A): \", A)\n",
        "print(\"P(B): \", B)\n",
        "def conditional_prob(A,B):\n",
        "  return (A*B)/B\n",
        "def is_independent(A,B):\n",
        "  return conditional_prob(A,B) == A\n",
        "print(\"P(A|B): \", conditional_prob(A,B))\n",
        "print(\"Independence of A and B:\", is_independent(A,B))"
      ],
      "metadata": {
        "colab": {
          "base_uri": "https://localhost:8080/"
        },
        "id": "UK_KRKmBmhx2",
        "outputId": "b77fd939-9223-44cd-cf16-8ba30c591e16"
      },
      "execution_count": 15,
      "outputs": [
        {
          "output_type": "stream",
          "name": "stdout",
          "text": [
            "P(A):  0.33\n",
            "P(B):  0.47\n",
            "P(A|B):  0.33\n",
            "Independence of A and B: True\n"
          ]
        }
      ]
    },
    {
      "cell_type": "markdown",
      "source": [
        "# **2.2.3 Discrete Random Variables**"
      ],
      "metadata": {
        "id": "_-uBE3VwnTfG"
      }
    }
  ]
}