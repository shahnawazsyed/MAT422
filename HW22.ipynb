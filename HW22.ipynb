{
  "nbformat": 4,
  "nbformat_minor": 0,
  "metadata": {
    "colab": {
      "provenance": [],
      "collapsed_sections": [
        "B2PWedQUgebw",
        "8QlQukVxjGE6"
      ],
      "authorship_tag": "ABX9TyPNupuvG50m0POd7WB0JWdg",
      "include_colab_link": true
    },
    "kernelspec": {
      "name": "python3",
      "display_name": "Python 3"
    },
    "language_info": {
      "name": "python"
    }
  },
  "cells": [
    {
      "cell_type": "markdown",
      "metadata": {
        "id": "view-in-github",
        "colab_type": "text"
      },
      "source": [
        "<a href=\"https://colab.research.google.com/github/shahnawazsyed/MAT422/blob/main/HW22.ipynb\" target=\"_parent\"><img src=\"https://colab.research.google.com/assets/colab-badge.svg\" alt=\"Open In Colab\"/></a>"
      ]
    },
    {
      "cell_type": "markdown",
      "source": [
        "# **2.2 Probability Distributions**\n",
        "*   2.2.1: Probability Axioms\n",
        "*   2.2.2: Conditional Probability\n",
        "*   2.2.3: Discrete Random Variables\n",
        "*   2.2.4: Continuous Random Variables   "
      ],
      "metadata": {
        "id": "B2PWedQUgebw"
      }
    },
    {
      "cell_type": "code",
      "source": [
        "import numpy as np"
      ],
      "metadata": {
        "id": "vm0-CY05isEo"
      },
      "execution_count": null,
      "outputs": []
    },
    {
      "cell_type": "markdown",
      "source": [
        "# **2.2.1 Probability Axioms**"
      ],
      "metadata": {
        "id": "8TXTL8ahi6MA"
      }
    },
    {
      "cell_type": "markdown",
      "source": [
        "The sample space of an experiment, *S*, is the set of all possible outcomes of the experiement. An event is any subset of outcomes in *S*. A simple event consists of exactly one outcome. A compound event consists of more than one outcome.\n",
        "\n",
        "The probability distribution is a function that assigns, to each event *A* in *S*, *P(A)*, which represents the probability, or chance, of *A* occuring.\n",
        "\n",
        "In some cases, for an experiment with *N* possible outcomes, the probability of each event occuring could be equal. Thus, for *N* equally likely outcomes, the probability of each occuring is $\\frac{1}{N}$.\n"
      ],
      "metadata": {
        "id": "z4dx7i87g97M"
      }
    },
    {
      "cell_type": "code",
      "execution_count": null,
      "metadata": {
        "id": "QtQtNzNMgQ3t",
        "colab": {
          "base_uri": "https://localhost:8080/"
        },
        "outputId": "15a7797e-b20b-47ce-94a6-5bd957b42059"
      },
      "outputs": [
        {
          "output_type": "stream",
          "name": "stdout",
          "text": [
            "Number of possibe outcomes:  2\n",
            "Probability of each outcome:  0.5\n"
          ]
        }
      ],
      "source": [
        "def equally_likely(num_outcomes):\n",
        "  return 1/num_outcomes\n",
        "num_outcomes = np.random.randint(1,10)\n",
        "print(\"Number of possible outcomes: \", num_outcomes)\n",
        "print(\"Probability of each outcome: \", equally_likely(num_outcomes))"
      ]
    },
    {
      "cell_type": "markdown",
      "source": [
        "# **2.2.2 Conditional Probability**"
      ],
      "metadata": {
        "id": "8QlQukVxjGE6"
      }
    },
    {
      "cell_type": "markdown",
      "source": [
        "Conditional probability is the likelihood of an event *A* occuring given that another event *B* already occured. This is denoted by $P(A|B)$. The formula for conditional probability is:\n",
        "\n",
        "$P(A|B)$ = $\\frac{P(A⋂B)}{P(B)}$\n",
        "\n",
        "where $P(A⋂B)$ is the joint probability of events *A* and *B* occuring.\n",
        "\n",
        "Events *A* and *B* are considered to be independent events if the occurance or nonoccurance of one event has no effect on the probability of the other event occuring. That is,\n",
        "\n",
        "$P(A|B) = P(A)$ or $P(A⋂B) = P(A) \\times P(B)$\n",
        "\n",
        "This property can be applied to multiple events. Consider the set of events $A_1,A_2,...A_n$. These events are mutually independent if:\n",
        "\n",
        "$P(A_1⋃A_2⋃...⋃A_n) = P(A_1) \\times P(A_2) \\times ... \\times P(A_n)$"
      ],
      "metadata": {
        "id": "r0x7kTaZjRtn"
      }
    },
    {
      "cell_type": "code",
      "source": [
        "A = np.random.randint(0,100)/100\n",
        "B = np.random.randint(0,100)/100\n",
        "print(\"P(A): \", A)\n",
        "print(\"P(B): \", B)\n",
        "def conditional_prob(A,B):\n",
        "  return (A*B)/B\n",
        "def is_independent(A,B):\n",
        "  return conditional_prob(A,B) == A\n",
        "print(\"P(A|B): \", conditional_prob(A,B))\n",
        "print(\"Independence of A and B:\", is_independent(A,B))"
      ],
      "metadata": {
        "colab": {
          "base_uri": "https://localhost:8080/"
        },
        "id": "UK_KRKmBmhx2",
        "outputId": "b77fd939-9223-44cd-cf16-8ba30c591e16"
      },
      "execution_count": null,
      "outputs": [
        {
          "output_type": "stream",
          "name": "stdout",
          "text": [
            "P(A):  0.33\n",
            "P(B):  0.47\n",
            "P(A|B):  0.33\n",
            "Independence of A and B: True\n"
          ]
        }
      ]
    },
    {
      "cell_type": "markdown",
      "source": [
        "# **2.2.3 Discrete Random Variables**"
      ],
      "metadata": {
        "id": "_-uBE3VwnTfG"
      }
    },
    {
      "cell_type": "markdown",
      "source": [
        "A random variable is a variable whose values depend on outcomes of a random phenomenon. It can be defined as a function whose domain is the sample space *S* of an experiment and whose range is in $\\Re$.\n",
        "\n",
        "A discrete random variable is one whose possible values are either a finite set or can be listed in an infinite sequence."
      ],
      "metadata": {
        "id": "T9_gnJmqpeKT"
      }
    },
    {
      "cell_type": "code",
      "source": [
        "x = np.arange(10)\n",
        "p = np.random.rand(10)\n",
        "p = p/sum(p)\n",
        "print(\"Possible values: \", x)\n",
        "print(\"Probabilties:\", p)"
      ],
      "metadata": {
        "colab": {
          "base_uri": "https://localhost:8080/"
        },
        "id": "lETZ5txIKWbm",
        "outputId": "b90ed779-8f6f-46bb-fcc5-a3f650316a18"
      },
      "execution_count": null,
      "outputs": [
        {
          "output_type": "stream",
          "name": "stdout",
          "text": [
            "Possible values:  [0 1 2 3 4 5 6 7 8 9]\n",
            "Probabilties: [0.08286782 0.07936061 0.1364002  0.14731412 0.0169769  0.13727555\n",
            " 0.00234178 0.14208755 0.07289697 0.18247851]\n"
          ]
        }
      ]
    },
    {
      "cell_type": "markdown",
      "source": [
        "A probability mass function (PMF) is a function that returns the probability that a discrete random variable is exactly equal to some value.\n",
        "\n",
        "$p(x) = p(X = x) = P($all s $∈ S: X(s) = x)$\n",
        "\n",
        "The cumulative distribution function (CDF) of a discrete random variable with PMF p(x) is defined as:\n",
        "\n",
        "$F(x) = P(X ≤ x) = \\Sigma_{y: y≤x} p(y)$\n",
        "\n",
        "The expected value (E(X)) of a random variable X is essentially the mean of numerous trials of an experiment involving X.\n",
        "\n",
        "$E(X) = \\Sigma_{x∈D} x⋅p(x)$\n",
        "\n",
        "where D is the set of all possible values of X.\n",
        "\n",
        "The variance (Var(X)) of a random variable X measures how spread out X is from its expected value.\n",
        "\n",
        "$Var(X) = E[(x-E[X])^2] = \\Sigma_{x∈D} (x-E[X])^2 \\cdot p(x)$"
      ],
      "metadata": {
        "id": "K_KKwS7mGdlw"
      }
    },
    {
      "cell_type": "code",
      "source": [
        "def pmf(x,p):\n",
        "  return p[x]\n",
        "def cdf(x,p):\n",
        "  sum = 0\n",
        "  for i in range(x+1):\n",
        "    sum += p[i]\n",
        "  return sum\n",
        "def expected_value(x,p):\n",
        "  sum = 0\n",
        "  for i in range(len(x)):\n",
        "    sum += x[i]*p[i]\n",
        "  return sum\n",
        "def var(x,p):\n",
        "  sum = 0\n",
        "  for i in range(len(x)):\n",
        "    sum += (x[i]-expected_value(x,p))**2*p[i]\n",
        "  return sum\n",
        "print(\"P(X = 3): \", pmf(3,p))\n",
        "print(\"P(X ≤ 3): \", cdf(3,p))\n",
        "print(\"E(X): \", expected_value(x,p))\n",
        "print(\"Var(X): \", var(x,p))\n",
        "print(\"Standard deviation of X:\", var(x,p)**0.5) #standard deviation is square root of variance"
      ],
      "metadata": {
        "colab": {
          "base_uri": "https://localhost:8080/"
        },
        "id": "I9Y5wbGPJjTZ",
        "outputId": "ff49280a-e332-48ff-86e8-5d463da7d691"
      },
      "execution_count": null,
      "outputs": [
        {
          "output_type": "stream",
          "name": "stdout",
          "text": [
            "P(X = 3):  0.14731411894592866\n",
            "P(X ≤ 3):  0.44594274505308557\n",
            "E(X):  4.782534557165369\n",
            "Var(X):  9.27442997870947\n",
            "Standard deviation of X: 3.0453948805876507\n"
          ]
        }
      ]
    },
    {
      "cell_type": "markdown",
      "source": [
        "# **2.2.4 Continuous Random Variables**"
      ],
      "metadata": {
        "id": "frgZsor3qyEL"
      }
    },
    {
      "cell_type": "markdown",
      "source": [
        "A random variable X is continuous if possible values comprise either a single interval on the number line or a union of disjoint intervals.\n",
        "\n",
        "The probability density function (PDF) of a continuous random variable is a function f(x) such that, for any two numbers *a* and *b*, *a* ≤ *b*:\n",
        "\n",
        "$P(a \\le X \\le b) = ∫_{a}^{b}f(x)dx$\n",
        "\n",
        "In other words, the above equation gives the probability that X takes on a value in the interval [*a*,*b*].\n",
        "\n",
        "E(X) and Var(X) are defined as:\n",
        "\n",
        "$E(X) = ∫_{-∞}^{∞}x \\cdot f(x)dx$\n",
        "\n",
        "$Var(X) = ∫_{-∞}^{∞}(x-E(X))^2 \\cdot f(x)dx$"
      ],
      "metadata": {
        "id": "2m-unCO_rA_3"
      }
    },
    {
      "cell_type": "code",
      "source": [
        "def pdf(x,f):\n",
        "  return f[x]\n",
        "def cdf(x,f):\n",
        "  sum = 0\n",
        "  for i in range(x+1):\n",
        "    sum += f[i]\n",
        "  return sum\n",
        "def expected_value(x,f):\n",
        "  sum = 0\n",
        "  for i in range(len(x)):\n",
        "    sum += x[i]*f[i]\n",
        "  return sum\n",
        "def var(x,p):\n",
        "  sum = 0\n",
        "  for i in range(len(x)):\n",
        "    sum += (x[i]-expected_value(x,p))**2*p[i]\n",
        "  return sum\n",
        "print(\"P(X = 3): \", pdf(3,p))\n",
        "print(\"P(X ≤ 3): \", cdf(3,p))\n",
        "print(\"E(X): \", expected_value(x,p))\n",
        "print(\"Var(X): \", var(x,p))\n",
        "print(\"Standard deviation of X:\", var(x,p)**0.5) #standard deviation is square root of variance"
      ],
      "metadata": {
        "colab": {
          "base_uri": "https://localhost:8080/"
        },
        "id": "ooUBIQz4spVq",
        "outputId": "c17f1742-3a89-423f-daf5-663e1386b8f3"
      },
      "execution_count": null,
      "outputs": [
        {
          "output_type": "stream",
          "name": "stdout",
          "text": [
            "P(X = 3):  0.14731411894592866\n",
            "P(X ≤ 3):  0.44594274505308557\n",
            "E(X):  4.782534557165369\n",
            "Var(X):  9.27442997870947\n",
            "Standard deviation of X: 3.0453948805876507\n"
          ]
        }
      ]
    }
  ]
}