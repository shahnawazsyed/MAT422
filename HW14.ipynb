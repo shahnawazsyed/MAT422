{
  "nbformat": 4,
  "nbformat_minor": 0,
  "metadata": {
    "colab": {
      "provenance": [],
      "authorship_tag": "ABX9TyPNuF0OElIQ5zNOiUDrl1pn",
      "include_colab_link": true
    },
    "kernelspec": {
      "name": "python3",
      "display_name": "Python 3"
    },
    "language_info": {
      "name": "python"
    }
  },
  "cells": [
    {
      "cell_type": "markdown",
      "metadata": {
        "id": "view-in-github",
        "colab_type": "text"
      },
      "source": [
        "<a href=\"https://colab.research.google.com/github/shahnawazsyed/MAT422/blob/main/HW14.ipynb\" target=\"_parent\"><img src=\"https://colab.research.google.com/assets/colab-badge.svg\" alt=\"Open In Colab\"/></a>"
      ]
    },
    {
      "cell_type": "markdown",
      "source": [
        "# **1.4 Principal Component Analysis**\n",
        "*   Singular value decomposition\n",
        "*   Low-rank matrix approximations\n",
        "*   Principal component analysis\n",
        "\n"
      ],
      "metadata": {
        "id": "TlLVfJLIU7_M"
      }
    },
    {
      "cell_type": "code",
      "execution_count": 1,
      "metadata": {
        "id": "0TwQ8AWVUv8d"
      },
      "outputs": [],
      "source": [
        "import numpy as np"
      ]
    },
    {
      "cell_type": "markdown",
      "source": [
        "# **1.4.1 Singular Value Decomposition**"
      ],
      "metadata": {
        "id": "cS9VUP0sVK2c"
      }
    },
    {
      "cell_type": "code",
      "source": [
        "A = np.random.randint(10, size=(3,3))\n",
        "print(A)"
      ],
      "metadata": {
        "colab": {
          "base_uri": "https://localhost:8080/"
        },
        "id": "oesEAduIVSEv",
        "outputId": "a2ba790e-69d4-4e27-8b91-6d446c753eac"
      },
      "execution_count": 59,
      "outputs": [
        {
          "output_type": "stream",
          "name": "stdout",
          "text": [
            "[[8 5 6]\n",
            " [3 3 9]\n",
            " [1 7 2]]\n"
          ]
        }
      ]
    },
    {
      "cell_type": "markdown",
      "source": [
        "The singular values (σ<sub>1</sub>...σ<sub>n</sub>) of *A* are the square roots of the eigenvalues of *A*<sup>T</sup>*A*:"
      ],
      "metadata": {
        "id": "dcMdupo51paU"
      }
    },
    {
      "cell_type": "code",
      "source": [
        "eigenvalues = np.linalg.eig(np.transpose(A)@A)\n",
        "eigenvectors = eigenvalues[1]\n",
        "eigenvalues = eigenvalues[0]\n",
        "print(\"Eigenvalues: \", (eigenvalues))"
      ],
      "metadata": {
        "colab": {
          "base_uri": "https://localhost:8080/"
        },
        "id": "5aBry4qEVc3V",
        "outputId": "2461d879-2385-4bf2-95fd-ce044aaa8ff6"
      },
      "execution_count": 3,
      "outputs": [
        {
          "output_type": "stream",
          "name": "stdout",
          "text": [
            "Eigenvalues:  [243.93792934  20.05584078   4.00622987]\n"
          ]
        }
      ]
    },
    {
      "cell_type": "code",
      "source": [
        "SV = np.sqrt(eigenvalues)\n",
        "SV = np.sort(SV)[::-1]\n",
        "print(\"Singular values: \", SV)"
      ],
      "metadata": {
        "colab": {
          "base_uri": "https://localhost:8080/"
        },
        "id": "xj51-2fNWDUz",
        "outputId": "ad602e57-652c-4997-cdf8-5dd7a92bb227"
      },
      "execution_count": 81,
      "outputs": [
        {
          "output_type": "stream",
          "name": "stdout",
          "text": [
            "Singular values:  [15.61851239  4.47837479  2.00155686]\n"
          ]
        }
      ]
    },
    {
      "cell_type": "markdown",
      "source": [
        "Let *A* be an *m* x *n* matrix with the dimension of Col(*A*) = *r*. There then exists an *m* x *n* matrix Σ, where the diagonal entries are the first *r* singular values of *A*, arranged in decreasing order. Additionally, there exists an *m* x *m* orthogonal matrix *U* and an *n* x *n* orthogonal matrix V where:\n",
        "\n",
        "A = UΣV<sup>T</sup>\n",
        "\n",
        "This is the Singular Value Decomposition (SVD) of *A*. Using the singular values obtained before, we can construct the matrix Σ:"
      ],
      "metadata": {
        "id": "aBgumCx52PJI"
      }
    },
    {
      "cell_type": "code",
      "source": [
        "sigma = np.diag(SV, 0)\n",
        "print(sigma)"
      ],
      "metadata": {
        "colab": {
          "base_uri": "https://localhost:8080/"
        },
        "id": "2whwgW6T25mD",
        "outputId": "d9d51f5a-f441-421d-ae4c-c7b57c057971"
      },
      "execution_count": 82,
      "outputs": [
        {
          "output_type": "stream",
          "name": "stdout",
          "text": [
            "[[15.61851239  0.          0.        ]\n",
            " [ 0.          4.47837479  0.        ]\n",
            " [ 0.          0.          2.00155686]]\n"
          ]
        }
      ]
    },
    {
      "cell_type": "markdown",
      "source": [
        "The matrix V has columns corresponding to the normalized eigenvectors of *A*<sup>T</sup>*A*:"
      ],
      "metadata": {
        "id": "56Jzu7f032vC"
      }
    },
    {
      "cell_type": "code",
      "source": [
        "V = (eigenvectors[:, np.argsort(eigenvalues)[::-1]])\n",
        "print(V)"
      ],
      "metadata": {
        "colab": {
          "base_uri": "https://localhost:8080/"
        },
        "id": "fw8CTZ3N4OkU",
        "outputId": "9cd37e72-103e-4fdc-f3b6-422282224a80"
      },
      "execution_count": 6,
      "outputs": [
        {
          "output_type": "stream",
          "name": "stdout",
          "text": [
            "[[ 0.46873299  0.87465264 -0.12358052]\n",
            " [ 0.35021045 -0.31244377 -0.88302408]\n",
            " [ 0.81095131 -0.37062333  0.45276519]]\n"
          ]
        }
      ]
    },
    {
      "cell_type": "markdown",
      "source": [
        "Finally, we form the matrix U, by re-arranging the SVD equation and evaluating AV/Σ"
      ],
      "metadata": {
        "id": "JfUUjDVC4pGb"
      }
    },
    {
      "cell_type": "code",
      "source": [
        "U = (A @ V) @ np.linalg.inv(sigma)\n",
        "print(U)"
      ],
      "metadata": {
        "colab": {
          "base_uri": "https://localhost:8080/"
        },
        "id": "msv9otkn5nak",
        "outputId": "8f381638-428a-4617-f144-df743edf3cf4"
      },
      "execution_count": 7,
      "outputs": [
        {
          "output_type": "stream",
          "name": "stdout",
          "text": [
            "[[ 0.36396881 -0.37101207  0.85432825]\n",
            " [ 0.72273885  0.69107731 -0.00779136]\n",
            " [ 0.58751618 -0.62029203 -0.51967542]]\n"
          ]
        }
      ]
    },
    {
      "cell_type": "markdown",
      "source": [
        "We verify the condition of SVD: A = UΣV<sup>T</sup>"
      ],
      "metadata": {
        "id": "IU2zuKGh5zAF"
      }
    },
    {
      "cell_type": "code",
      "source": [
        "print(np.allclose(A, U@sigma@V.transpose(), atol=1e-8))"
      ],
      "metadata": {
        "colab": {
          "base_uri": "https://localhost:8080/"
        },
        "id": "F9YRuvHU56HU",
        "outputId": "b607d43d-ba7c-494d-99fc-2d76874db444"
      },
      "execution_count": 8,
      "outputs": [
        {
          "output_type": "stream",
          "name": "stdout",
          "text": [
            "True\n"
          ]
        }
      ]
    },
    {
      "cell_type": "markdown",
      "source": [
        "# **1.4.2 Low-Rank Matrix Adaptation**"
      ],
      "metadata": {
        "id": "sH7F4ueJhFOz"
      }
    },
    {
      "cell_type": "markdown",
      "source": [
        "Suppose we wish to approximate a matrix *A* with a rank-*k* matrix $\\hat{A}$, for a target rank *k*.\n",
        "\n",
        "For computing applications, this is desirable as a compressed version of *A*. For example, it can greatly reduce the amount of parameters, and thus improve performance, in a machine learning model.\n",
        "\n",
        "We can use the SVD to compute our approximation. The SVD expresses *A* as a sum of rank-1 matricies.\n",
        "\n",
        "If we want a rank-*k* matrix, we need:\n",
        "\n",
        "U<sub>k</sub>, the first *k* columns of U.\n",
        "\n",
        "V<sub>k</sub><sup>T</sup>, the first *k* rows of V<sup>T</sup>.\n",
        "\n",
        "Σ<sub>k</sub>, the first *k* rows and columns of Σ.\n",
        "\n",
        "This forms a rank-*k* approximation of $\\hat{A}$ = U<sub>k</sub>Σ<sub>k</sub>V<sub>k</sub><sup>T</sup>."
      ],
      "metadata": {
        "id": "pYwrpNb7yWIK"
      }
    },
    {
      "cell_type": "code",
      "source": [
        "#For simplicity, a helper method for calculting SVD is defined:\n",
        "def SVD(A):\n",
        "  eigenvalues = np.linalg.eig(np.transpose(A)@A)\n",
        "  eigenvectors = eigenvalues[1]\n",
        "  eigenvalues = eigenvalues[0]\n",
        "  SV = np.sqrt(eigenvalues)\n",
        "  SV = np.sort(SV)[::-1]\n",
        "  sigma = np.diag(SV, 0)\n",
        "  V = (eigenvectors[:, np.argsort(eigenvalues)[::-1]])\n",
        "  U = (A @ V) @ np.linalg.inv(sigma)\n",
        "  return U, sigma, V #NOTE: V is returned NOT already transposed\n"
      ],
      "metadata": {
        "id": "mBV8W57pPDF0"
      },
      "execution_count": 86,
      "outputs": []
    },
    {
      "cell_type": "code",
      "source": [
        "A = np.random.randint(50, size=(5,5))\n",
        "print(\"A:\")\n",
        "print(A)\n",
        "k = np.random.randint(1, A.shape[1])\n",
        "print(\"Approximate A with a rank-k matrix where k =\", k)"
      ],
      "metadata": {
        "colab": {
          "base_uri": "https://localhost:8080/"
        },
        "id": "BWZ_cMwE4Spm",
        "outputId": "1bb487f6-ac1e-4802-96d5-578c55728bc2"
      },
      "execution_count": 102,
      "outputs": [
        {
          "output_type": "stream",
          "name": "stdout",
          "text": [
            "A:\n",
            "[[30 21 16  9 44]\n",
            " [22 33 41 45 33]\n",
            " [ 2  3  1 19 29]\n",
            " [44 11 23 10 12]\n",
            " [21 21  7 12 26]]\n",
            "Approximate A with a rank-k matrix where k = 3\n"
          ]
        }
      ]
    },
    {
      "cell_type": "code",
      "source": [
        "U, Sigma, V = SVD(A)\n",
        "U_k = U[:, :k]\n",
        "V_kT = np.transpose(V)[:k, :]\n",
        "sigma_K = Sigma[:k, :k]\n",
        "print(\"U_k:\")\n",
        "print(U_k)\n",
        "print(\"V_kT:\")\n",
        "print(V_kT)\n",
        "print(\"Sigma_k:\")\n",
        "print(sigma_K)"
      ],
      "metadata": {
        "colab": {
          "base_uri": "https://localhost:8080/"
        },
        "id": "nJxTzclO4qYW",
        "outputId": "5f10fa4f-a7cb-4d76-e7a6-50f12c4dd8e7"
      },
      "execution_count": 109,
      "outputs": [
        {
          "output_type": "stream",
          "name": "stdout",
          "text": [
            "U_k:\n",
            "[[ 0.49116124  0.17093299  0.58779767]\n",
            " [ 0.65954909 -0.43763865 -0.58638868]\n",
            " [ 0.22734137 -0.46387307  0.40679329]\n",
            " [ 0.38937291  0.74916838 -0.24544861]\n",
            " [ 0.34707387  0.05313042  0.29140419]]\n",
            "V_kT:\n",
            "[[ 0.46979002  0.38483134  0.403749    0.40345155  0.55264435]\n",
            " [ 0.79835801 -0.08045932  0.05379694 -0.52496011 -0.27869977]\n",
            " [ 0.02737153 -0.07475617 -0.56327047 -0.38926062  0.72447558]]\n",
            "Sigma_k:\n",
            "[[115.20159422   0.           0.        ]\n",
            " [  0.          35.88783527   0.        ]\n",
            " [  0.           0.          31.66483879]]\n"
          ]
        }
      ]
    },
    {
      "cell_type": "code",
      "source": [
        "#compute A_hat using formula\n",
        "A_hat = U_k@sigma_K@V_kT\n",
        "print(A_hat)"
      ],
      "metadata": {
        "colab": {
          "base_uri": "https://localhost:8080/"
        },
        "id": "6Xu9HxF197VO",
        "outputId": "4bebae07-6d29-4d7d-e33e-1bb3b2e24ca8"
      },
      "execution_count": 110,
      "outputs": [
        {
          "output_type": "stream",
          "name": "stdout",
          "text": [
            "[[31.98883335 19.88976984 12.69128159 12.36287704 43.04468592]\n",
            " [22.64799965 31.89166242 40.2911173  46.12742163 32.9157685 ]\n",
            " [-0.63416928 10.45526775  2.42313101 14.29156964 28.44543286]\n",
            " [42.32502429 15.67992064 23.93489387  7.00865113 11.66580431]\n",
            " [20.55865417 14.54367971 11.04841273 11.53861832 28.25015747]]\n"
          ]
        }
      ]
    },
    {
      "cell_type": "markdown",
      "source": [
        "We can evaluate the validity of our approximation by way of the Frobenius norm. We apply the ℓ<sub>2</sub> norm to ||*A* - $\\hat{A}$||:"
      ],
      "metadata": {
        "id": "VCNQZPNAJG_l"
      }
    },
    {
      "cell_type": "code",
      "source": [
        "print(\"Difference between A and approximation:\", np.linalg.norm(A - A_hat, 'fro')) #calculate frobenius norm"
      ],
      "metadata": {
        "colab": {
          "base_uri": "https://localhost:8080/"
        },
        "id": "sYceaAqK-Lwd",
        "outputId": "392845a8-4462-497b-8acc-dd1506291aae"
      },
      "execution_count": 111,
      "outputs": [
        {
          "output_type": "stream",
          "name": "stdout",
          "text": [
            "Difference between A and approximation: 14.730714646903348\n"
          ]
        }
      ]
    },
    {
      "cell_type": "markdown",
      "source": [
        "# **1.4.3 Principal Component Analysis**"
      ],
      "metadata": {
        "id": "o6qoJj0QiccM"
      }
    }
  ]
}