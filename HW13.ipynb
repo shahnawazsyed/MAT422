{
  "nbformat": 4,
  "nbformat_minor": 0,
  "metadata": {
    "colab": {
      "provenance": [],
      "collapsed_sections": [
        "Hh_Wbb_ejw8g",
        "afzlh8hAjlQv"
      ],
      "authorship_tag": "ABX9TyO+YcCKipTLsDzAS9VXkcoO",
      "include_colab_link": true
    },
    "kernelspec": {
      "name": "python3",
      "display_name": "Python 3"
    },
    "language_info": {
      "name": "python"
    }
  },
  "cells": [
    {
      "cell_type": "markdown",
      "metadata": {
        "id": "view-in-github",
        "colab_type": "text"
      },
      "source": [
        "<a href=\"https://colab.research.google.com/github/shahnawazsyed/MAT422/blob/main/HW13.ipynb\" target=\"_parent\"><img src=\"https://colab.research.google.com/assets/colab-badge.svg\" alt=\"Open In Colab\"/></a>"
      ]
    },
    {
      "cell_type": "markdown",
      "source": [
        "# **1.3 Linear Regression**\n",
        "\n",
        "\n",
        "*   QR Decomposition\n",
        "*   Least-squares decomposition\n",
        "*   Linear Regression\n",
        "\n",
        "\n",
        "---\n",
        "\n"
      ],
      "metadata": {
        "id": "aDRGcExZinrm"
      }
    },
    {
      "cell_type": "code",
      "source": [
        "import numpy as np\n",
        "import matplotlib.pyplot as plt"
      ],
      "metadata": {
        "id": "Q3HEVuuZju6E"
      },
      "execution_count": 24,
      "outputs": []
    },
    {
      "cell_type": "markdown",
      "source": [
        "# **1.3.2 Least-squares problems**\n",
        "\n"
      ],
      "metadata": {
        "id": "Hh_Wbb_ejw8g"
      }
    },
    {
      "cell_type": "markdown",
      "source": [
        "Let A ∈ R<sup>*n*x*m*</sup> and b ∈ R<sup>*n*</sup>. In trying to solve the system Ax=b, we find that the system is inconsistent. If A is a square matrix (*n* = *m*), we can use A<sup>-1</sup> to solve the system. However, in cases where A is not a square matrix, we cannot use A<sup>-1</sup>, thus we approximate the solution $\\hat{x}$, such that:\n",
        "\n",
        "dist(b,A$\\hat{x}$) ≤ dist(b,Ax) for all other vectors x in R<sup>*n*</sup>\n",
        "\n",
        "Where dist(v,w) = ||v-w|| is the distance between vectors v and w.\n",
        "\n",
        "We can derive a solution for the least-squares problem where:"
      ],
      "metadata": {
        "id": "evbNvULGhKjL"
      }
    },
    {
      "cell_type": "code",
      "source": [
        "A = np.random.random((3, 2))\n",
        "b = np.random.random((3, 1))\n",
        "print(\"A: \", A)\n",
        "print(\"b: \", b)"
      ],
      "metadata": {
        "colab": {
          "base_uri": "https://localhost:8080/"
        },
        "id": "lpuehDkZlaMf",
        "outputId": "bad51c26-0a72-4428-986f-fb3b71262106"
      },
      "execution_count": null,
      "outputs": [
        {
          "output_type": "stream",
          "name": "stdout",
          "text": [
            "A:  [[0.99760001 0.86319897]\n",
            " [0.87973183 0.52044314]\n",
            " [0.15975445 0.75834877]]\n",
            "b:  [[0.31732097]\n",
            " [0.83509295]\n",
            " [0.55138684]]\n"
          ]
        }
      ]
    },
    {
      "cell_type": "code",
      "source": [
        "squaredA = np.matmul(np.transpose(A),A) #create a square matrix from A\n",
        "print(squaredA)"
      ],
      "metadata": {
        "colab": {
          "base_uri": "https://localhost:8080/"
        },
        "id": "SQRIGidCloRc",
        "outputId": "206213f6-4166-407c-af81-5b81af03007a"
      },
      "execution_count": null,
      "outputs": [
        {
          "output_type": "stream",
          "name": "stdout",
          "text": [
            "[[1.79465536 1.44012729]\n",
            " [1.44012729 1.59106639]]\n"
          ]
        }
      ]
    },
    {
      "cell_type": "code",
      "source": [
        "Atb = np.matmul(np.transpose(A), b) #compute transpose of A times B\n",
        "print(Atb)"
      ],
      "metadata": {
        "colab": {
          "base_uri": "https://localhost:8080/"
        },
        "id": "ciNDBHGDnAZu",
        "outputId": "fe74226b-b35c-49a2-dbb7-bd96992db0fa"
      },
      "execution_count": null,
      "outputs": [
        {
          "output_type": "stream",
          "name": "stdout",
          "text": [
            "[[1.13930375]\n",
            " [1.12667306]]\n"
          ]
        }
      ]
    },
    {
      "cell_type": "code",
      "source": [
        "#We can now solve Ax=b, as we have a square matrix A (squaredA)\n",
        "x = np.linalg.solve(squaredA, Atb)\n",
        "print(\"Least squares solution:\")\n",
        "print(x)"
      ],
      "metadata": {
        "colab": {
          "base_uri": "https://localhost:8080/"
        },
        "id": "zYY2sCjGnQ4p",
        "outputId": "d3ff0ad8-80e4-462f-b4f7-1fd26837cf96"
      },
      "execution_count": null,
      "outputs": [
        {
          "output_type": "stream",
          "name": "stdout",
          "text": [
            "Least squares solution:\n",
            "[[0.24333671]\n",
            " [0.4878723 ]]\n"
          ]
        }
      ]
    },
    {
      "cell_type": "markdown",
      "source": [
        "We can determine the precision of our estimation by calculating its residual. A smaller residual is always better."
      ],
      "metadata": {
        "id": "51qw62P6oizZ"
      }
    },
    {
      "cell_type": "code",
      "source": [
        "def residual(a, x, b):\n",
        "  return b - A @ x\n",
        "print(\"Residual: \", np.linalg.norm(residual(A, x, b)))"
      ],
      "metadata": {
        "colab": {
          "base_uri": "https://localhost:8080/"
        },
        "id": "0JhWvjjfoxe9",
        "outputId": "e6d1b2da-3b9a-4e3d-8b30-cfadb5c22df1"
      },
      "execution_count": null,
      "outputs": [
        {
          "output_type": "stream",
          "name": "stdout",
          "text": [
            "Residual:  0.5245886655828828\n"
          ]
        }
      ]
    },
    {
      "cell_type": "markdown",
      "source": [
        "For the projection A*x* to be the best estimation of b, we want the former to be the closest possible vector within the column space of A. Thus, the residual vector should be orthogonal to the column space of A.\n"
      ],
      "metadata": {
        "id": "7S9zYH8upYH8"
      }
    },
    {
      "cell_type": "code",
      "source": [
        "def isOrthogonal(residual, A):\n",
        "  for i in range(A.shape[1]):\n",
        "    dot_product = np.dot(A[:, i], residual)\n",
        "    if not np.isclose(dot_product, 0, atol=1e-10):\n",
        "      return False\n",
        "  return True\n",
        "r = residual(A, x, b)\n",
        "print(\"Orthogonality: \", isOrthogonal(r, A))"
      ],
      "metadata": {
        "colab": {
          "base_uri": "https://localhost:8080/"
        },
        "id": "Wsk4R3LVsmcZ",
        "outputId": "b5aacee7-88fe-4d80-c2c9-c5ee4163f583"
      },
      "execution_count": null,
      "outputs": [
        {
          "output_type": "stream",
          "name": "stdout",
          "text": [
            "Orthogonality:  True\n"
          ]
        }
      ]
    },
    {
      "cell_type": "markdown",
      "source": [
        "# **1.3.1 QR Decomposition**\n",
        "\n",
        "\n",
        "\n"
      ],
      "metadata": {
        "id": "afzlh8hAjlQv"
      }
    },
    {
      "cell_type": "markdown",
      "source": [
        "QR Decomposition utilizes the result of the gram-schmidt process,"
      ],
      "metadata": {
        "id": "d7UDDhV4kLX0"
      }
    },
    {
      "cell_type": "code",
      "source": [
        "A = np.random.random((5,4))\n",
        "Q, R = np.linalg.qr(A)\n",
        "print(\"Q: \", Q)\n",
        "print(\"R: \", R)"
      ],
      "metadata": {
        "colab": {
          "base_uri": "https://localhost:8080/"
        },
        "id": "2GG5kf-clSjl",
        "outputId": "38ba9221-6d72-47be-ca60-49ffd0a1bfee"
      },
      "execution_count": null,
      "outputs": [
        {
          "output_type": "stream",
          "name": "stdout",
          "text": [
            "Q:  [[-0.19549363 -0.57401745  0.63538687 -0.16330527]\n",
            " [-0.10051841 -0.16683731 -0.12006603 -0.88372324]\n",
            " [-0.56420605 -0.06617225  0.32973518  0.34226426]\n",
            " [-0.75192771  0.45004444 -0.16505925 -0.1706553 ]\n",
            " [-0.26068091 -0.66011402 -0.66775582  0.21470112]]\n",
            "R:  [[-1.312405   -1.03995966 -0.88150656 -1.25223264]\n",
            " [ 0.         -1.0862184  -0.62572231 -0.48706494]\n",
            " [ 0.          0.         -0.4144449   0.45280922]\n",
            " [ 0.          0.          0.         -0.31630432]]\n"
          ]
        }
      ]
    },
    {
      "cell_type": "code",
      "source": [
        "proj = np.matmul(Q, np.transpose(Q))\n",
        "print(\"Projection matrix: \", proj)"
      ],
      "metadata": {
        "colab": {
          "base_uri": "https://localhost:8080/"
        },
        "id": "sZSP6aUAworK",
        "outputId": "4a012e57-cf27-4e82-e311-f34e959b6449"
      },
      "execution_count": null,
      "outputs": [
        {
          "output_type": "stream",
          "name": "stdout",
          "text": [
            "Projection matrix:  [[ 0.79809888  0.18344652  0.30189856 -0.18834386 -0.02946668]\n",
            " [ 0.18344652  0.83332125 -0.27430378  0.17112844  0.0267733 ]\n",
            " [ 0.30189856 -0.27430378  0.54857735  0.28162666  0.04406091]\n",
            " [-0.18834386  0.17112844  0.28162666  0.82430307 -0.02748805]\n",
            " [-0.02946668  0.0267733   0.04406091 -0.02748805  0.99569945]]\n"
          ]
        }
      ]
    },
    {
      "cell_type": "code",
      "source": [],
      "metadata": {
        "id": "ohIBdLGBxGWV"
      },
      "execution_count": null,
      "outputs": []
    },
    {
      "cell_type": "markdown",
      "source": [
        "# **1.3.3 Linear Regression**"
      ],
      "metadata": {
        "id": "egj9qgg5j_qn"
      }
    },
    {
      "cell_type": "markdown",
      "source": [
        "Given a set of data points (x<sub>i</sub>, y<sub>i</sub>) for all *i* up to *n*, we wish to find a function of the form:\n",
        "\n",
        "$\\hat{y}$ = β<sub>0</sub> + β<sub>1</sub>x\n",
        "\n",
        "that can be used to predict the y<sub>i</sub>'s with $\\hat{y}$'s while minimizing:\n",
        "\n",
        "(y<sub>i</sub> - $\\hat{y}$)<sup>2</sup> for all *i*'s up to *n*\n",
        "\n",
        "Our task is to find the values of β<sub>0</sub> and β<sub>1</sub>.\n",
        "\n"
      ],
      "metadata": {
        "id": "Wz8nqov88_EQ"
      }
    },
    {
      "cell_type": "code",
      "source": [
        "X = 2 * np.random.rand(100, 1)\n",
        "y = 7 + 3 * X + np.random.rand(100, 1)\n",
        "print(\"X (first 5): \")\n",
        "print(X[:5])\n",
        "print(\"\")\n",
        "print(\"y (first 5): \")\n",
        "print(y[:5])"
      ],
      "metadata": {
        "colab": {
          "base_uri": "https://localhost:8080/"
        },
        "id": "2WttF4tP-Wvu",
        "outputId": "7c6ced2e-99ed-4a10-e403-cd80d149f3d4"
      },
      "execution_count": 45,
      "outputs": [
        {
          "output_type": "stream",
          "name": "stdout",
          "text": [
            "X (first 5): \n",
            "[[0.80871621]\n",
            " [0.47379269]\n",
            " [1.53618235]\n",
            " [1.3360236 ]\n",
            " [1.48937656]]\n",
            "\n",
            "y (first 5): \n",
            "[[ 9.96462146]\n",
            " [ 8.69203929]\n",
            " [12.03365389]\n",
            " [11.10704719]\n",
            " [11.69391829]]\n"
          ]
        }
      ]
    },
    {
      "cell_type": "code",
      "source": [
        "X_1D = X.ravel()\n",
        "beta = np.polyfit(X_1D, y, 1)\n",
        "predict = np.poly1d(beta.ravel())\n",
        "print(predict)"
      ],
      "metadata": {
        "colab": {
          "base_uri": "https://localhost:8080/"
        },
        "id": "EBPymfKPOalk",
        "outputId": "ce18fa37-8d6a-41f8-c98b-d9925fca1897"
      },
      "execution_count": 46,
      "outputs": [
        {
          "output_type": "stream",
          "name": "stdout",
          "text": [
            " \n",
            "2.953 x + 7.549\n"
          ]
        }
      ]
    },
    {
      "cell_type": "code",
      "source": [
        "y_1D = y.ravel()\n",
        "predicted_values = predict(X_1D)\n",
        "plt.plot(X_1D,y_1D, 'yo', X_1D, predicted_values, '--k')"
      ],
      "metadata": {
        "colab": {
          "base_uri": "https://localhost:8080/",
          "height": 467
        },
        "id": "TF-irI83Q0P5",
        "outputId": "8fede586-b1b1-48d3-c39d-6a6671a0bb36"
      },
      "execution_count": 47,
      "outputs": [
        {
          "output_type": "execute_result",
          "data": {
            "text/plain": [
              "[<matplotlib.lines.Line2D at 0x7c71f0561c30>,\n",
              " <matplotlib.lines.Line2D at 0x7c71f0561cc0>]"
            ]
          },
          "metadata": {},
          "execution_count": 47
        },
        {
          "output_type": "display_data",
          "data": {
            "text/plain": [
              "<Figure size 640x480 with 1 Axes>"
            ],
            "image/png": "[encoded data removed]"
          },
          "metadata": {}
        }
      ]
    },
    {
      "cell_type": "markdown",
      "source": [
        "We can calculate the R<sup>2</sup> (coefficient of determination) to examine the \"goodness of fit\", or how strongly correlated our data is. A higher R<sup>2</sup> is always better."
      ],
      "metadata": {
        "id": "AgbwbbFnThg4"
      }
    },
    {
      "cell_type": "code",
      "source": [
        "residuals = y_1D - predicted_values #residuals: difference between true and predicted values\n",
        "RSS = np.sum(residuals**2) #RSS: residual sum of squares\n",
        "TSS = np.sum((y_1D - np.mean(y_1D))**2) #TSS: total sum of squares\n",
        "R_squared = 1 - (RSS / TSS)\n",
        "print(\"R-squared: \", R_squared)"
      ],
      "metadata": {
        "colab": {
          "base_uri": "https://localhost:8080/"
        },
        "id": "pWotQDOkSQU0",
        "outputId": "e27894ac-387a-4433-ca76-f03ddcfac61f"
      },
      "execution_count": 48,
      "outputs": [
        {
          "output_type": "stream",
          "name": "stdout",
          "text": [
            "R-squared:  0.9690330557806268\n"
          ]
        }
      ]
    }
  ]
}