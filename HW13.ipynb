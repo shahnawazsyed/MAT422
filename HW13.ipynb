{
  "nbformat": 4,
  "nbformat_minor": 0,
  "metadata": {
    "colab": {
      "provenance": [],
      "authorship_tag": "ABX9TyPM7nBmavoPHMFt+vC3KahL",
      "include_colab_link": true
    },
    "kernelspec": {
      "name": "python3",
      "display_name": "Python 3"
    },
    "language_info": {
      "name": "python"
    }
  },
  "cells": [
    {
      "cell_type": "markdown",
      "metadata": {
        "id": "view-in-github",
        "colab_type": "text"
      },
      "source": [
        "<a href=\"https://colab.research.google.com/github/shahnawazsyed/MAT422/blob/main/HW13.ipynb\" target=\"_parent\"><img src=\"https://colab.research.google.com/assets/colab-badge.svg\" alt=\"Open In Colab\"/></a>"
      ]
    },
    {
      "cell_type": "markdown",
      "source": [
        "# **1.3 Linear Regression**\n",
        "\n",
        "\n",
        "*   QR Decomposition\n",
        "*   Least-squares decomposition\n",
        "*   Linear Regression\n",
        "\n",
        "\n",
        "---\n",
        "\n"
      ],
      "metadata": {
        "id": "aDRGcExZinrm"
      }
    },
    {
      "cell_type": "code",
      "source": [
        "import numpy as np"
      ],
      "metadata": {
        "id": "Q3HEVuuZju6E"
      },
      "execution_count": 1,
      "outputs": []
    },
    {
      "cell_type": "markdown",
      "source": [
        "# **1.3.1 QR Decomposition**\n",
        "\n",
        "\n",
        "\n"
      ],
      "metadata": {
        "id": "afzlh8hAjlQv"
      }
    },
    {
      "cell_type": "markdown",
      "source": [
        "QR Decomposition utilizes the result of the gram-schmidt process,"
      ],
      "metadata": {
        "id": "d7UDDhV4kLX0"
      }
    },
    {
      "cell_type": "code",
      "source": [
        "A = np.array([[12, 2, -3],\n",
        "              [3, 9, 2],\n",
        "              [10, -5, 0]])\n",
        "Q, R = np.linalg.qr(A)\n",
        "print(\"Q: \", Q)\n",
        "print(\"R: \", R)\n",
        "# need to add much more"
      ],
      "metadata": {
        "colab": {
          "base_uri": "https://localhost:8080/"
        },
        "id": "2GG5kf-clSjl",
        "outputId": "21e490ce-6815-4cc5-f778-44938c2e1fcb"
      },
      "execution_count": null,
      "outputs": [
        {
          "output_type": "stream",
          "name": "stdout",
          "text": [
            "Q:  [[-0.75443354 -0.18617351 -0.62941994]\n",
            " [-0.18860838 -0.85700114  0.47955805]\n",
            " [-0.62869461  0.48050855  0.61143652]]\n",
            "R:  [[-15.90597372  -0.06286946   1.88608384]\n",
            " [  0.         -10.48790005  -1.15548175]\n",
            " [  0.           0.           2.84737593]]\n"
          ]
        }
      ]
    },
    {
      "cell_type": "markdown",
      "source": [
        "# **1.3.2 Least-squares problems**\n",
        "\n"
      ],
      "metadata": {
        "id": "Hh_Wbb_ejw8g"
      }
    },
    {
      "cell_type": "markdown",
      "source": [
        "Let A ∈ R<sup>*n*x*m*</sup> and b ∈ R<sup>*n*</sup>. In trying to solve the system Ax=b, we find that the system is inconsistent. If A is a square matrix (*n* = *m*), we can use A<sup>-1</sup> to solve the system. However, in cases where A is not a square matrix, we cannot use A<sup>-1</sup>, thus we approximate the solution $\\hat{x}$, such that:\n",
        "\n",
        "dist(b,A$\\hat{x}$) ≤ dist(b,Ax) for all other vectors x in R<sup>*n*</sup>\n",
        "\n",
        "Where dist(v,w) = ||v-w|| is the distance between vectors v and w.\n",
        "\n",
        "We can derive a solution for the least-squares problem where:"
      ],
      "metadata": {
        "id": "evbNvULGhKjL"
      }
    },
    {
      "cell_type": "code",
      "source": [
        "A = np.random.random((3, 2))\n",
        "b = np.random.random((3, 1))\n",
        "print(\"A: \", A)\n",
        "print(\"b: \", b)"
      ],
      "metadata": {
        "colab": {
          "base_uri": "https://localhost:8080/"
        },
        "id": "lpuehDkZlaMf",
        "outputId": "bad51c26-0a72-4428-986f-fb3b71262106"
      },
      "execution_count": 41,
      "outputs": [
        {
          "output_type": "stream",
          "name": "stdout",
          "text": [
            "A:  [[0.99760001 0.86319897]\n",
            " [0.87973183 0.52044314]\n",
            " [0.15975445 0.75834877]]\n",
            "b:  [[0.31732097]\n",
            " [0.83509295]\n",
            " [0.55138684]]\n"
          ]
        }
      ]
    },
    {
      "cell_type": "code",
      "source": [
        "squaredA = np.matmul(np.transpose(A),A) #create a square matrix from A\n",
        "print(squaredA)"
      ],
      "metadata": {
        "colab": {
          "base_uri": "https://localhost:8080/"
        },
        "id": "SQRIGidCloRc",
        "outputId": "206213f6-4166-407c-af81-5b81af03007a"
      },
      "execution_count": 42,
      "outputs": [
        {
          "output_type": "stream",
          "name": "stdout",
          "text": [
            "[[1.79465536 1.44012729]\n",
            " [1.44012729 1.59106639]]\n"
          ]
        }
      ]
    },
    {
      "cell_type": "code",
      "source": [
        "Atb = np.matmul(np.transpose(A), b) #compute transpose of A times B\n",
        "print(Atb)"
      ],
      "metadata": {
        "colab": {
          "base_uri": "https://localhost:8080/"
        },
        "id": "ciNDBHGDnAZu",
        "outputId": "fe74226b-b35c-49a2-dbb7-bd96992db0fa"
      },
      "execution_count": 43,
      "outputs": [
        {
          "output_type": "stream",
          "name": "stdout",
          "text": [
            "[[1.13930375]\n",
            " [1.12667306]]\n"
          ]
        }
      ]
    },
    {
      "cell_type": "code",
      "source": [
        "#We can now solve Ax=b, as we have a square matrix A (squaredA)\n",
        "x = np.linalg.solve(squaredA, Atb)\n",
        "print(\"Least squares solution:\")\n",
        "print(x)"
      ],
      "metadata": {
        "colab": {
          "base_uri": "https://localhost:8080/"
        },
        "id": "zYY2sCjGnQ4p",
        "outputId": "d3ff0ad8-80e4-462f-b4f7-1fd26837cf96"
      },
      "execution_count": 44,
      "outputs": [
        {
          "output_type": "stream",
          "name": "stdout",
          "text": [
            "Least squares solution:\n",
            "[[0.24333671]\n",
            " [0.4878723 ]]\n"
          ]
        }
      ]
    },
    {
      "cell_type": "markdown",
      "source": [
        "We can determine the precision of our estimation by calculating its residual. A smaller residual is always better."
      ],
      "metadata": {
        "id": "51qw62P6oizZ"
      }
    },
    {
      "cell_type": "code",
      "source": [
        "def residual(a, x, b):\n",
        "  return b - A @ x\n",
        "print(\"Residual: \", np.linalg.norm(residual(A, x, b)))"
      ],
      "metadata": {
        "colab": {
          "base_uri": "https://localhost:8080/"
        },
        "id": "0JhWvjjfoxe9",
        "outputId": "e6d1b2da-3b9a-4e3d-8b30-cfadb5c22df1"
      },
      "execution_count": 50,
      "outputs": [
        {
          "output_type": "stream",
          "name": "stdout",
          "text": [
            "Residual:  0.5245886655828828\n"
          ]
        }
      ]
    },
    {
      "cell_type": "markdown",
      "source": [
        "For the projection A*x* to be the best estimation of b, we want the former to be the closest possible vector within the column space of A. Thus, the residual vector should be orthogonal to the column space of A.\n"
      ],
      "metadata": {
        "id": "7S9zYH8upYH8"
      }
    },
    {
      "cell_type": "code",
      "source": [
        "def isOrthogonal(residual, A):\n",
        "  for i in range(A.shape[1]):\n",
        "    dot_product = np.dot(A[:, i], residual)\n",
        "    if not np.isclose(dot_product, 0, atol=1e-10):\n",
        "      return False\n",
        "  return True\n",
        "r = residual(A, x, b)\n",
        "print(\"Orthogonality: \", isOrthogonal(r, A))"
      ],
      "metadata": {
        "colab": {
          "base_uri": "https://localhost:8080/"
        },
        "id": "Wsk4R3LVsmcZ",
        "outputId": "b5aacee7-88fe-4d80-c2c9-c5ee4163f583"
      },
      "execution_count": 52,
      "outputs": [
        {
          "output_type": "stream",
          "name": "stdout",
          "text": [
            "Orthogonality:  True\n"
          ]
        }
      ]
    },
    {
      "cell_type": "markdown",
      "source": [
        "# **1.3.3 Linear Regression**"
      ],
      "metadata": {
        "id": "egj9qgg5j_qn"
      }
    }
  ]
}